{
 "cells": [
  {
   "cell_type": "markdown",
   "metadata": {},
   "source": [
    "<img src=\"https://hprc.tamu.edu/assets/img/research/aces/aces_logo.png\" style=\"height:220px; float: left; margin-left: -40px\"/>\n",
    "<img src=\"https://hprc.tamu.edu/Images/header.jpg\" style=\"height:80px; float: center\"/>\n",
    "<img src=\"https://julialang.org/assets/infra/logo.svg\" style=\"height:100px; float: right; padding:0px 100px\"/>\n"
   ]
  },
  {
   "cell_type": "markdown",
   "metadata": {},
   "source": [
    "# Introduction to Julia\n",
    "\n",
    "Julia is an open source, general purpose programming language designed to combine the speed and performance of lower-level languages (like C and Fortran) with user-friendly syntax found in dynamic, higher-level programming languages. It is especially well-suited for tasks like visualization, large data analytics, and parallel computing. It can be run dynamically via interactive REPL sessions or written, compiled, and run statically. Julia is an ideal choice for researchers and data scientists that prefer the benefits of dynamic programming but still need to solve large computational calcuations or numerical simulations with the speed of statically-typed languages."
   ]
  },
  {
   "cell_type": "markdown",
   "metadata": {},
   "source": [
    "## Running the Julia REPL on the Command Line\n",
    "\n",
    "After installation, Julia can be launched on the command line by typing `julia` (this will launch the interactive REPL) and can be quit using `exit()` or by typing `Ctrl+d`. You can switch to **shell mode** by typing a semicolon and **help mode** by typing a question mark. \n",
    "\n",
    "\n",
    "### Running the Julia REPL on the Command Line\n",
    "\n",
    "\n",
    "<table style=\"width: 60%\">\n",
    "    <tr>\n",
    "        <th style=\"text-align: center;\"> KEYBINDING </th>\n",
    "        <th style=\"text-align: center;\"> DESCRIPTION </th>\n",
    "    </tr>\n",
    "    <tr>\n",
    "        <td style=\"text-align: center;\"> Ctrl + d </td>\n",
    "        <td style=\"text-align: center;\"> Exit (when buffer is empty) </td>\n",
    "    </tr>\n",
    "    <tr>\n",
    "        <td style=\"text-align: center;\"> Ctrl + c </td>\n",
    "        <td style=\"text-align: center;\"> Interrupt or cancel </td>\n",
    "    </tr>\n",
    "    <tr>\n",
    "        <td style=\"text-align: center;\"> Ctrl + l </td>\n",
    "        <td style=\"text-align: center;\"> Clear console screen </td>\n",
    "    </tr>\n",
    "    <tr>\n",
    "        <td style=\"text-align: center;\"> ? </td>\n",
    "        <td style=\"text-align: center;\"> Enter help mode </td>\n",
    "    </tr>\n",
    "    <tr>\n",
    "        <td style=\"text-align: center;\"> Ctrl + s, Ctrl + r </td>\n",
    "        <td style=\"text-align: center;\"> Forward/Reverse keyword search through history </td>\n",
    "    </tr>\n",
    "    <tr>\n",
    "        <td style=\"text-align: center;\"> ] </td>\n",
    "        <td style=\"text-align: center;\"> Enter Pkg REPL </td>\n",
    "    </tr>\n",
    "    <tr>\n",
    "        <td style=\"text-align: center;\"> Backspace or Ctrl + c </td>\n",
    "        <td style=\"text-align: center;\"> Quit Pkg REPL </td>\n",
    "    </tr>\n",
    "</table>\n",
    "\n",
    "\n",
    "*Work through some examples on command line*"
   ]
  },
  {
   "cell_type": "markdown",
   "metadata": {},
   "source": [
    "## Running Julia Commands in Jupyter\n",
    "\n",
    "We will be using a Jupyter Notebook for this tutorial. Cells like (markdown) allow us to do things like provide code explanations, display images, and help organize our code. Code cells, as shown below, allow us to type and run Jupyter commands. To run a code cell, you can click on click on the cell and press the 'play' button at the top of the notebook, press `command + return` on Macs, or `control + return` on Windows. Run the code cell below to execute your first Julia command in this Jupyter Notebook.\n"
   ]
  },
  {
   "cell_type": "code",
   "execution_count": null,
   "metadata": {},
   "outputs": [],
   "source": [
    "println(\"Hello, Julia!\")"
   ]
  },
  {
   "cell_type": "markdown",
   "metadata": {},
   "source": [
    "### Exercise\n",
    "\n",
    "In the code cell above, we ran a modified version of the traditional \"Hello, World!\" program. We used the function `println()` to display the contents within the function's parentheses (and in this case, quotation marks). Use the code chunk below to write your own version of this program. Don't worry about functions yet, we will cover these in more detail later."
   ]
  },
  {
   "cell_type": "code",
   "execution_count": null,
   "metadata": {},
   "outputs": [],
   "source": [
    "# Create your own version of \"Hello, World!\" on the lines below\n",
    "\n",
    "\n",
    "\n"
   ]
  },
  {
   "cell_type": "markdown",
   "metadata": {},
   "source": [
    "## Comments in Code\n",
    "\n",
    "Did you notice that the first line in the code chunk above was not included in the output? That is because it is a comment in the code chunk, with the text following a hashtag or pound symbol `#`. Comments in code are very important, as they allow code authors to communicate what they are trying to accomplish with others they might share the code with or as a reminder to themselves explaining particular sections of code. It is <span style=\"color:seagreen\">***good practice***</span> to include #comments in all of your code, even if you do not intend to share what you write with others.  \n",
    "\n",
    "\n",
    "In Julia, we can include multiple lines of comments by opening a section with `#=`, followed by the comments, and closing with `=#`. Take a look at the code chunk below to see how comments in Julia work."
   ]
  },
  {
   "cell_type": "code",
   "execution_count": null,
   "metadata": {},
   "outputs": [],
   "source": [
    "# This is a comment. It will not be included as part of the code when the cell is executed.\n",
    "\n",
    "println(\"Comments are good practice!\") # Comments can even come directly following code that is executed. \n",
    "\n",
    "#=\n",
    "This is an example of multi-line comment.\n",
    "All of the text between the opening syntax and closing syntax of this section will not be executed.\n",
    "=#\n",
    "\n",
    "println(\"Learning Julia with HPRC!\")"
   ]
  },
  {
   "cell_type": "markdown",
   "metadata": {},
   "source": [
    "# Operators\n",
    "\n",
    "Julia contains arithmetic, boolean, and bitwise operators. The following sections go over each of these different types of operators independently."
   ]
  },
  {
   "cell_type": "markdown",
   "metadata": {},
   "source": [
    "## Mathematic Operators\n",
    "\n",
    "Check out the table below from the official Julia Documentation (https://docs.julialang.org/en/v1/manual/mathematical-operations/)\n"
   ]
  },
  {
   "cell_type": "markdown",
   "metadata": {},
   "source": [
    "<table style=\"width: 80%\">\n",
    "    <tr>\n",
    "        <th style=\"text-align: center;\"> EXPRESSION </th>\n",
    "        <th style=\"text-align: center;\"> NAME </th>\n",
    "        <th style=\"text-align: center;\"> DESCRIPTION </th>\n",
    "    </tr>\n",
    "    <tr>\n",
    "        <td style=\"text-align: center;\">x + y</td>\n",
    "        <td style=\"text-align: center;\">binary plus</td>\n",
    "        <td style=\"text-align: center;\">performs addition</td>\n",
    "    </tr>\n",
    "        <tr>\n",
    "        <td style=\"text-align: center;\">x - y</td>\n",
    "        <td style=\"text-align: center;\">binary minus</td>\n",
    "        <td style=\"text-align: center;\">performs subtraction</td>\n",
    "    </tr>\n",
    "        <tr>\n",
    "        <td style=\"text-align: center;\">x * y</td>\n",
    "        <td style=\"text-align: center;\">times</td>\n",
    "        <td style=\"text-align: center;\">performs multiplication</td>\n",
    "    </tr>\n",
    "        <tr>\n",
    "        <td style=\"text-align: center;\">x / y</td>\n",
    "        <td style=\"text-align: center;\">divide</td>\n",
    "        <td style=\"text-align: center;\">performs division</td>\n",
    "    </tr>\n",
    "        <tr>\n",
    "        <td style=\"text-align: center;\">x ^ y</td>\n",
    "        <td style=\"text-align: center;\">power</td>\n",
    "        <td style=\"text-align: center;\">raises x to the yth power</td>\n",
    "    </tr>\n",
    "        <tr>\n",
    "        <td style=\"text-align: center;\">x % y</td>\n",
    "        <td style=\"text-align: center;\">remainder</td>\n",
    "        <td style=\"text-align: center;\">equivalent to rem(x, y)</td>\n",
    "    </tr>\n",
    "</table>\n",
    "\n",
    "\n",
    "<p style=\"text-align:center; font-weight:bold;\"> Comparative Operators </p>\n",
    "\n",
    "<table style=\"width: 60%\">\n",
    "    <tr>\n",
    "        <th style=\"text-align: center;\"> OPERATOR </th>\n",
    "        <th style=\"text-align: center;\"> DESCRIPTION </th>\n",
    "    </tr>\n",
    "    <tr>\n",
    "        <td style=\"text-align: center;\"> == </td>\n",
    "        <td style=\"text-align: center;\"> equality </td>\n",
    "    </tr>\n",
    "    <tr>\n",
    "        <td style=\"text-align: center;\"> !=,≠ (\\ne+TAB) </td>\n",
    "        <td style=\"text-align: center;\"> inequality </td>\n",
    "    </tr>\n",
    "    <tr>\n",
    "        <td style=\"text-align: center;\"> < </td>\n",
    "        <td style=\"text-align: center;\"> less than </td>\n",
    "    </tr>\n",
    "    <tr>\n",
    "        <td style=\"text-align: center;\"> <=,≤ (\\le+TAB) </td>\n",
    "        <td style=\"text-align: center;\"> less than or equal to </td>\n",
    "    </tr>\n",
    "    <tr>\n",
    "        <td style=\"text-align: center;\"> > </td>\n",
    "        <td style=\"text-align: center;\"> greater than </td>\n",
    "    </tr>\n",
    "    <tr>\n",
    "        <td style=\"text-align: center;\"> >=,≥ (\\ge+TAB) </td>\n",
    "        <td style=\"text-align: center;\"> greater than or equal to </td>\n",
    "    </tr>\n",
    "</table>\n",
    "\n",
    "### More about Arithmetic Operators\n",
    "\n",
    "1. The order of operations follows math rules.\n",
    "2. The updating version of the operators is formed by placing an `=` immediately after the operator. For instance, `x+=3` is equivalent to `x=x+3`.\n",
    "3. Unicode can be defined as an operator.\n",
    "4. A \"dot\" operation will automatically perform the operationd element-by-element on arrays in every binary operation.\n",
    "5. Numeric Literal Coefficients: Julia allows variables to be immediately preceded by a numeric literal, implying multiplication."
   ]
  },
  {
   "cell_type": "markdown",
   "metadata": {},
   "source": [
    "### Exercise\n",
    "\n",
    "Use the code chunk below to try Julia's mathematical and comparative operators.\n",
    "\n",
    "*Try ≠(4,5), what does this mean? How about !=(4,5)?*"
   ]
  },
  {
   "cell_type": "code",
   "execution_count": null,
   "metadata": {},
   "outputs": [],
   "source": []
  },
  {
   "cell_type": "markdown",
   "metadata": {},
   "source": [
    "## Boolean Operators\n",
    "\n",
    "The following boolean operators are available in Julia:\n",
    "\n",
    "<table style=\"width: 60%\">\n",
    "    <tr>\n",
    "        <th style=\"text-align: center;\"> EXPRESSION </th>\n",
    "        <th style=\"text-align: center;\"> DESCRIPTION </th>\n",
    "    </tr>\n",
    "    <tr>\n",
    "        <td style=\"text-align: center;\"> !x </td>\n",
    "        <td style=\"text-align: center;\">negation</td>\n",
    "    </tr>\n",
    "    <tr>\n",
    "        <td style=\"text-align: center;\"> x && y </td>\n",
    "        <td style=\"text-align: center;\"> short-circuiting and </td>\n",
    "    </tr>\n",
    "    <tr>\n",
    "        <td style=\"text-align: center;\"> x || y </td>\n",
    "        <td style=\"text-align: center;\"> short-circuiting or </td>\n",
    "    </tr>\n",
    "</table>"
   ]
  },
  {
   "cell_type": "markdown",
   "metadata": {},
   "source": [
    "***From the Julia Documentation:***\n",
    "\n",
    "> The && and || operators in Julia correspond to logical “and” and “or” operations, respectively, and are typically used for this purpose. However, they have an additional property of short-circuit evaluation: they don't necessarily evaluate their second argument, as explained below. (There are also bitwise & and | operators that can be used as logical “and” and “or” without short-circuit behavior, but beware that & and | have higher precedence than && and || for evaluation order.)\n",
    "\n",
    "> *Note that Bool is an integer type and all the usual promotion rules and numeric operators are also defined on it.*"
   ]
  },
  {
   "cell_type": "markdown",
   "metadata": {},
   "source": [
    "## Bittwise Operators\n",
    "\n",
    "The following bittwise operators are available in Julia:\n",
    "\n",
    "<table style=\"width: 60%\">\n",
    "    <tr>\n",
    "        <th style=\"text-align: center;\"> EXPRESSION </th>\n",
    "        <th style=\"text-align: center;\"> DESCRIPTION </th>\n",
    "    </tr>\n",
    "    <tr>\n",
    "        <td style=\"text-align: center;\"> ~x </td>\n",
    "        <td style=\"text-align: center;\"> bittwise not </td>\n",
    "    </tr>\n",
    "    <tr>\n",
    "        <td style=\"text-align: center;\"> x & y </td>\n",
    "        <td style=\"text-align: center;\"> bittwise and </td>\n",
    "    </tr>\n",
    "    <tr>\n",
    "        <td style=\"text-align: center;\"> x | y </td>\n",
    "        <td style=\"text-align: center;\"> bittwise or </td>\n",
    "    </tr>\n",
    "</table>"
   ]
  },
  {
   "cell_type": "markdown",
   "metadata": {},
   "source": [
    "# Variables and Data Types"
   ]
  },
  {
   "cell_type": "markdown",
   "metadata": {},
   "source": [
    "## Variables\n",
    "\n",
    "Variables in Julia are assigned with the `=` operator and adhere to the following standards:\n",
    "\n",
    "1. Variable names must begin with a letter or underscore.\n",
    "2. Names can include any combinations of letters, numbers, underscores and exclamation symbols. Some unicode characters can be used as well.\n",
    "3. There is no maxium length for variable names.\n",
    "4. Variable names are case sensitive.\n",
    "\n",
    "Variables can be displayed by simply typing the name of the variable at the command prompt or using the `print` or `println` functions (the latter also prints a new line). Take a look at the code chunk below for some examples of assigning and displaying variables in Julia."
   ]
  },
  {
   "cell_type": "code",
   "execution_count": null,
   "metadata": {},
   "outputs": [],
   "source": [
    "#=\n",
    "Variables in Julia\n",
    "=#\n",
    "\n",
    "x = 3\n",
    "x += 1\n",
    "print(\"x is equal to \"); println(x)\n",
    "\n",
    "🍕 = 12 # \\:pizza: <TAB>\n",
    "🏃 = \"tired\" # \\:runner: <TAB>\n",
    "\n",
    "println(12🍕, \": so many pizzas!\")"
   ]
  },
  {
   "cell_type": "markdown",
   "metadata": {},
   "source": [
    "### Exercise\n",
    "\n",
    "Use the code chunk below to practice creating and displaying variables."
   ]
  },
  {
   "cell_type": "code",
   "execution_count": null,
   "metadata": {},
   "outputs": [],
   "source": []
  },
  {
   "cell_type": "markdown",
   "metadata": {},
   "source": [
    "## Data Types\n",
    "\n",
    "Data types in Julia are polymorphic, they can be:\n",
    "* Dynamic: determined at tuntime (e.g. Python, R)\n",
    "* Static: Defined explicitly (e.g. C++)"
   ]
  },
  {
   "cell_type": "markdown",
   "metadata": {},
   "source": [
    "### Integers and Floating Points\n",
    "\n",
    "<img src=\"https://juliateachingctu.github.io/Julia-for-Optimization-and-Learning/dev/lecture_01/types.svg\" style=\"height:320px\"/>  \n",
    "\n",
    "<p style=\"text-align:center\"> From https://juliateachingctu.github.io/ </p>\n",
    "\n",
    "\n",
    "**Integer Types**\n",
    "\n",
    "<table style=\"width: 80%\">\n",
    "    <tr>\n",
    "        <th style=\"text-align: left;\"> Type </th>\n",
    "        <th style=\"text-align: center;\"> Signed </th>\n",
    "        <th style=\"text-align: center;\"> Number of bits </th>\n",
    "        <th style=\"text-align: center;\"> Smallest value </th>\n",
    "        <th style=\"text-align: center;\"> Largest value </th>\n",
    "    </tr>\n",
    "    <tr>\n",
    "        <td style=\"text-align: left;\"> Int8 </td>\n",
    "        <td style=\"text-align: center;\"> &#x2705; </td>\n",
    "        <td style=\"text-align: center;\"> 8 </td>\n",
    "        <td style=\"text-align: center;\"> -2^7 </td>\n",
    "        <td style=\"text-align: center;\"> 2^7 - 1 </td>\n",
    "    </tr>\n",
    "    <tr>\n",
    "        <td style=\"text-align: left;\"> UInt8 </td>\n",
    "        <td style=\"text-align: center;\"> </td>\n",
    "        <td style=\"text-align: center;\"> 8 </td>\n",
    "        <td style=\"text-align: center;\"> 0 </td>\n",
    "        <td style=\"text-align: center;\"> 2^8 - 1 </td>\n",
    "    </tr>\n",
    "    <tr>\n",
    "        <td style=\"text-align: left;\"> Int16 </td>\n",
    "        <td style=\"text-align: center;\"> &#x2705; </td>\n",
    "        <td style=\"text-align: center;\"> 16 </td>\n",
    "        <td style=\"text-align: center;\"> -2^15 </td>\n",
    "        <td style=\"text-align: center;\"> 2^15 - 1 </td>\n",
    "    </tr>\n",
    "    <tr>\n",
    "        <td style=\"text-align: left;\"> UInt16 </td>\n",
    "        <td style=\"text-align: center;\"> </td>\n",
    "        <td style=\"text-align: center;\"> 16 </td>\n",
    "        <td style=\"text-align: center;\"> 0 </td>\n",
    "        <td style=\"text-align: center;\"> 2^16 - 1 </td>\n",
    "    </tr>\n",
    "    <tr>\n",
    "        <td style=\"text-align: left;\"> Int32 </td>\n",
    "        <td style=\"text-align: center;\"> &#x2705; </td>\n",
    "        <td style=\"text-align: center;\"> 32 </td>\n",
    "        <td style=\"text-align: center;\"> -2^31 </td>\n",
    "        <td style=\"text-align: center;\"> 2^31 - 1 </td>\n",
    "    </tr>\n",
    "    <tr>\n",
    "        <td style=\"text-align: left;\"> UInt32 </td>\n",
    "        <td style=\"text-align: center;\"> </td>\n",
    "        <td style=\"text-align: center;\"> 32 </td>\n",
    "        <td style=\"text-align: center;\"> 0 </td>\n",
    "        <td style=\"text-align: center;\"> 2^32 - 1 </td>\n",
    "    </tr>\n",
    "    <tr>\n",
    "        <td style=\"text-align: left;\"> Int64 </td>\n",
    "        <td style=\"text-align: center;\"> &#x2705; </td>\n",
    "        <td style=\"text-align: center;\"> 64 </td>\n",
    "        <td style=\"text-align: center;\"> -2^63 </td>\n",
    "        <td style=\"text-align: center;\"> 2^63 - 1 </td>\n",
    "    </tr>\n",
    "    <tr>\n",
    "        <td style=\"text-align: left;\"> UInt64 </td>\n",
    "        <td style=\"text-align: center;\"> </td>\n",
    "        <td style=\"text-align: center;\"> 64 </td>\n",
    "        <td style=\"text-align: center;\"> 0 </td>\n",
    "        <td style=\"text-align: center;\"> 2^64 - 1 </td>\n",
    "    </tr>\n",
    "    <tr>\n",
    "        <td style=\"text-align: left;\"> Int128 </td>\n",
    "        <td style=\"text-align: center;\"> &#x2705; </td>\n",
    "        <td style=\"text-align: center;\"> 128 </td>\n",
    "        <td style=\"text-align: center;\"> -2^127 </td>\n",
    "        <td style=\"text-align: center;\"> 2^127 - 1 </td>\n",
    "    </tr>\n",
    "    <tr>\n",
    "        <td style=\"text-align: left;\"> UInt128 </td>\n",
    "        <td style=\"text-align: center;\"> </td>\n",
    "        <td style=\"text-align: center;\"> 128 </td>\n",
    "        <td style=\"text-align: center;\"> 0 </td>\n",
    "        <td style=\"text-align: center;\"> 2^128 - 1 </td>\n",
    "    </tr>\n",
    "    <tr>\n",
    "        <td style=\"text-align: left;\"> Bool </td>\n",
    "        <td style=\"text-align: center;\"> NA </td>\n",
    "        <td style=\"text-align: center;\"> 8 </td>\n",
    "        <td style=\"text-align: center;\"> false(0) </td>\n",
    "        <td style=\"text-align: center;\"> true(1) </td>\n",
    "    </tr>\n",
    "</table>"
   ]
  },
  {
   "cell_type": "markdown",
   "metadata": {},
   "source": [
    "**Floating-Point Types**\n",
    "\n",
    "<table style=\"width: 80%\">\n",
    "    <tr>\n",
    "        <th style=\"text-align: left;\"> Type </th>\n",
    "        <th style=\"text-align: center;\"> Precision </th>\n",
    "        <th style=\"text-align: center;\"> Number of bits </th>\n",
    "    </tr>\n",
    "    <tr>\n",
    "        <td style=\"text-align: left;\"> Float16 </td>\n",
    "        <td style=\"text-align: center;\"> half </td>\n",
    "        <td style=\"text-align: center;\"> 16 </td>\n",
    "    </tr>\n",
    "    <tr>\n",
    "        <td style=\"text-align: left;\"> Float32 </td>\n",
    "        <td style=\"text-align: center;\"> single </td>\n",
    "        <td style=\"text-align: center;\"> 32 </td>\n",
    "    </tr>\n",
    "    <tr>\n",
    "        <td style=\"text-align: left;\"> Float64 </td>\n",
    "        <td style=\"text-align: center;\"> double </td>\n",
    "        <td style=\"text-align: center;\"> 64 </td>\n",
    "    </tr>\n",
    "</table>\n",
    "\n",
    "\n",
    "Additional information on Integer and Floating-Point numbers can be found in the Julia <a href=\"https://docs.julialang.org/en/v1/manual/integers-and-floating-point-numbers/\"> documentation. </a>"
   ]
  },
  {
   "cell_type": "markdown",
   "metadata": {},
   "source": [
    "**Big Integers**\n",
    "\n",
    "An overflow happens when a number goes beyond the representable range of a given group. Julia provides the `BigInt` type to handle big integers:"
   ]
  },
  {
   "cell_type": "code",
   "execution_count": null,
   "metadata": {},
   "outputs": [],
   "source": [
    "x = typemax(Int64)\n",
    "println(x)\n",
    "println(x + 1)\n",
    "println(x + 1 == typemin(64))\n",
    "\n",
    "x = big(typemax(Int64))^100\n",
    "println(x)"
   ]
  },
  {
   "cell_type": "markdown",
   "metadata": {},
   "source": [
    "**More on Numeric Data Types**\n",
    "\n",
    "* All numeric types interoperate naturally without explicit casting due to a Julia's type promotion system.\n",
    "* There is full support for **Complex* and **Rational Numbers**.\n",
    "* Floating point precision can be set with increasing precision coming at the cost of performance."
   ]
  },
  {
   "cell_type": "markdown",
   "metadata": {},
   "source": [
    "#### Useful Numeric Functions\n",
    "\n",
    "<table style=\"width: 60%\" align=\"left\">\n",
    "    <tr>\n",
    "        <th style=\"text-align: left;\"> Function </th>\n",
    "        <th style=\"text-align: left;\"> Description </th>\n",
    "    </tr>\n",
    "    <tr>\n",
    "        <td style=\"text-align: left;\"> round(x) </td>\n",
    "        <td style=\"text-align: left;\"> round x to the nearest integer </td>\n",
    "    </tr>\n",
    "    <tr>\n",
    "        <td style=\"text-align: left;\"> floor(x) </td>\n",
    "        <td style=\"text-align: left;\"> round x towards -Inf </td>\n",
    "    </tr>\n",
    "    <tr>\n",
    "        <td style=\"text-align: left;\"> ceil(x) </td>\n",
    "        <td style=\"text-align: left;\"> round x towards +Inf </td>\n",
    "    </tr>\n",
    "    <tr>\n",
    "        <td style=\"text-align: left;\"> abs(x) </td>\n",
    "        <td style=\"text-align: left;\"> returns a positive value with the magnitude of x </td>\n",
    "    </tr>\n",
    "</table>\n"
   ]
  },
  {
   "cell_type": "markdown",
   "metadata": {},
   "source": [
    "### Characters and Strings\n",
    "\n",
    "* `Char` data types in Julia represent a single character and are denoted with single quotations `' '`.\n",
    "* `String` data types can represent one or more characters and are denoted with double quotations `\" \"`.\n",
    "\n",
    "```\n",
    "# Char\n",
    "a = 'H'\n",
    "\n",
    "# String with length 1\n",
    "b = \"H\"\n",
    "\n",
    "# String with length 4\n",
    "c = \"HPRC\"\n",
    "```"
   ]
  },
  {
   "cell_type": "markdown",
   "metadata": {},
   "source": [
    "#### Working with characters and strings\n",
    "\n",
    "* Strings are immutable.\n",
    "* All indexing in Julia is 1-based: the first element of any inter-indexed object is found at index 1.\n",
    "\n",
    "Run the code chunk below to explore indexing in Julia."
   ]
  },
  {
   "cell_type": "code",
   "execution_count": null,
   "metadata": {},
   "outputs": [],
   "source": [
    "str_variable = \"HPRC\"\n",
    "\n",
    "a = str_variable[1]\n",
    "println(a)\n",
    "\n",
    "b = str_variable[end]\n",
    "println(b)\n",
    "\n",
    "c = str_variable[2:3]\n",
    "println(c)\n"
   ]
  },
  {
   "cell_type": "markdown",
   "metadata": {},
   "source": [
    "**Interpolation**\n",
    "\n",
    "Julia allows interpolation into string literals using `$`. To include a literal `$` in a string, escape it with a backslach:"
   ]
  },
  {
   "cell_type": "code",
   "execution_count": null,
   "metadata": {},
   "outputs": [],
   "source": [
    "# Interpolation in Julia\n",
    "\n",
    "println(\"1 + 2 = $(1+2)\")\n",
    "\n",
    "println(\"\\$100 dollars!\")"
   ]
  },
  {
   "cell_type": "markdown",
   "metadata": {},
   "source": [
    "**Built-in functions for working with strings**\n"
   ]
  },
  {
   "cell_type": "code",
   "execution_count": null,
   "metadata": {},
   "outputs": [],
   "source": [
    "new_string = \"Learning Julia with HPRC at Texas A&M.\"\n",
    "\n",
    "# Get length of string\n",
    "nsl = length(new_string)\n",
    "println(nsl)\n",
    "\n",
    "# Identify if subsets in string\n",
    "ns_bool = occursin(\"HPRC\", new_string)\n",
    "println(ns_bool)\n",
    "\n",
    "# Finding index of character in string\n",
    "first_H = findfirst('H', new_string)\n",
    "println(first_H)\n",
    "\n",
    "last_d = findlast('d', new_string)\n",
    "println(last_d)\n",
    "\n",
    "# Repeat string\n",
    "ns_repeat = repeat(new_string[20:24], 5)\n",
    "print(ns_repeat)"
   ]
  },
  {
   "cell_type": "markdown",
   "metadata": {},
   "source": [
    "# Data Structures"
   ]
  },
  {
   "cell_type": "markdown",
   "metadata": {},
   "source": [
    "## Tuples\n",
    "\n",
    "Tuples are ordered sequences of elements that are immutable in Julia. This data structure is good for small, fixed-length collections."
   ]
  },
  {
   "cell_type": "code",
   "execution_count": null,
   "metadata": {},
   "outputs": [],
   "source": [
    "## Tuples in Julia\n",
    "\n",
    "tuple_1 = (1, 2, 3, 4)\n",
    "println(tuple_1[1])\n",
    "\n",
    "tuple_2 = ((1, 2), (3, 4))\n",
    "println(tuple_2[1][2])\n",
    "println(tuple_2[2][1])\n",
    "println(tuple_2[2][2])"
   ]
  },
  {
   "cell_type": "markdown",
   "metadata": {},
   "source": [
    "## Arrays\n",
    "\n",
    "In Julia, arrays are used for the following:\n",
    "\n",
    "* lists\n",
    "* vectors\n",
    "* tables\n",
    "* matrices\n",
    "\n",
    "Arrays are mutable in Julia and there are a number of built-in functions to generate/manipulate them."
   ]
  },
  {
   "cell_type": "markdown",
   "metadata": {},
   "source": [
    "### Constructing/Intializing Arrays\n",
    "\n",
    "From the Julia documentation:\n",
    "> Many functions for constructing and initializing arrays are provided. In the following list of such functions, calls with a dims... argument can either take a single tuple of dimension sizes or a series of dimension sizes passed as a variable number of arguments. Most of these functions also accept a first input T, which is the element type of the array. If the type T is omitted it will default to Float64."
   ]
  },
  {
   "cell_type": "markdown",
   "metadata": {},
   "source": [
    "Empty arrays can be created with the `zeros` function:"
   ]
  },
  {
   "cell_type": "code",
   "execution_count": null,
   "metadata": {},
   "outputs": [],
   "source": [
    "# Create an array with two rows and three columns with Int8 type\n",
    "a = zeros(Int8, 2, 3)\n",
    "a"
   ]
  },
  {
   "cell_type": "code",
   "execution_count": null,
   "metadata": {},
   "outputs": [],
   "source": [
    "# Create a similar array with a tuple\n",
    "b = zeros(Int8, (2, 3))\n",
    "b"
   ]
  },
  {
   "cell_type": "code",
   "execution_count": null,
   "metadata": {},
   "outputs": [],
   "source": [
    "# Create an array without specifying type\n",
    "c = zeros((2, 3))"
   ]
  },
  {
   "cell_type": "markdown",
   "metadata": {},
   "source": [
    "The `ones` function can also be used to create arrays:"
   ]
  },
  {
   "cell_type": "code",
   "execution_count": null,
   "metadata": {},
   "outputs": [],
   "source": [
    "# Creating arrays with the 'ones' function:\n",
    "\n",
    "a = ones(Int8, 2, 3)\n",
    "println(a)\n",
    "\n",
    "b = ones(Int8, (2, 3))\n",
    "println(b)\n",
    "\n",
    "c = ones((2, 3))\n",
    "println(c)"
   ]
  },
  {
   "cell_type": "markdown",
   "metadata": {},
   "source": [
    "#### Other methods of generating arrays"
   ]
  },
  {
   "cell_type": "code",
   "execution_count": null,
   "metadata": {},
   "outputs": [],
   "source": [
    "# Creating a 2x4 array with random numbers\n",
    "a = rand(2, 4)\n",
    "display(a)\n",
    "\n",
    "# Creating arrays strings\n",
    "b = fill(\"bee\", 1, 2)\n",
    "display(b)\n",
    "\n",
    "c = fill(\"sea\", 4, 2)\n",
    "display(c)"
   ]
  },
  {
   "cell_type": "code",
   "execution_count": null,
   "metadata": {},
   "outputs": [],
   "source": [
    "# Defining the elements while initializing the array\n",
    "\n",
    "d = [1 2 3; 4 5 6; 7 8 9]\n",
    "println(d)"
   ]
  },
  {
   "cell_type": "markdown",
   "metadata": {},
   "source": [
    "### Array Methods and Operations"
   ]
  },
  {
   "cell_type": "code",
   "execution_count": null,
   "metadata": {},
   "outputs": [],
   "source": [
    "### Inspecting Arrays\n",
    "\n",
    "d = [1 2 3; 4 5 6; 7 8 9]\n",
    "\n",
    "# Get number of array dimensions\n",
    "println(ndims(d))\n",
    "\n",
    "# Get array dimenstion sizes\n",
    "println(size(d))\n",
    "\n",
    "# Get array element type\n",
    "println(eltype(d))"
   ]
  },
  {
   "cell_type": "code",
   "execution_count": null,
   "metadata": {},
   "outputs": [],
   "source": [
    "### Combining Arrays\n",
    "\n",
    "d = [1 2 3; 4 5 6; 7 8 9]\n",
    "\n",
    "# Horizontal Concatenation\n",
    "h = [d d]\n",
    "display(h)\n",
    "\n",
    "# Vertical Concatenation\n",
    "v = [d; d]\n",
    "display(v)"
   ]
  },
  {
   "cell_type": "code",
   "execution_count": null,
   "metadata": {},
   "outputs": [],
   "source": [
    "# Mathematical Operations with Arrays\n",
    "sin_dim = [1 2 3]\n",
    "two_dim = [1 2 3; 4 5 6; 7 8 9]\n",
    "\n",
    "\n",
    "# Some operations require a dot/period before the operator\n",
    "println(sin_dim .- 2)\n",
    "println(two_dim .+ 2)\n",
    "println(sin_dim.^2)\n",
    "\n",
    "# Dot/Period also differentiates matrix multiplication and element-wise multiplication\n",
    "display(sin_dim * two_dim)\n",
    "display(sin_dim .* two_dim)"
   ]
  },
  {
   "cell_type": "markdown",
   "metadata": {},
   "source": [
    "## Sets\n",
    "\n",
    "Unordered collections of unique elements. `Sets` are mainly used to elimate repeated numbers or elements from a sequence or list and are also used to perform some standard set operations."
   ]
  },
  {
   "cell_type": "code",
   "execution_count": null,
   "metadata": {},
   "outputs": [],
   "source": [
    "# Create a new set\n",
    "tacos = Set([\"Asada\", \"Barbacoa\", \"Birria\", \"Asada\", \"Pastor\", \"Fajita\"])\n",
    "println(tacos)\n",
    "println(typeof(tacos))"
   ]
  },
  {
   "cell_type": "code",
   "execution_count": null,
   "metadata": {},
   "outputs": [],
   "source": [
    "# Add additional elements to the set\n",
    "push!(tacos, \"Carnitas\")\n",
    "println(tacos)"
   ]
  },
  {
   "cell_type": "code",
   "execution_count": null,
   "metadata": {},
   "outputs": [],
   "source": [
    "# Remove elements from the set\n",
    "pop!(tacos, \"Fajita\")\n",
    "println(tacos)"
   ]
  },
  {
   "cell_type": "code",
   "execution_count": null,
   "metadata": {},
   "outputs": [],
   "source": [
    "# Check set for specific elements\n",
    "in(\"Barbacoa\", tacos)"
   ]
  },
  {
   "cell_type": "code",
   "execution_count": null,
   "metadata": {},
   "outputs": [],
   "source": [
    "# Combining or comparing sets\n",
    "more_tacos = Set([\"Chorizo\", \"Asada\", \"Pastor\", \"Vampiros\"])\n",
    "\n",
    "# Combine\n",
    "println(union(tacos, more_tacos))\n",
    "\n",
    "# Get shared elements (intersect)\n",
    "println(intersect(tacos, more_tacos))\n",
    "\n",
    "# See differences (order of comparison matters)\n",
    "println(setdiff(tacos, more_tacos))\n",
    "println(setdiff(more_tacos, tacos))"
   ]
  },
  {
   "cell_type": "markdown",
   "metadata": {},
   "source": [
    "## Dictionaries\n",
    "\n",
    "Data structure comprised of mappings between key-value pairs."
   ]
  },
  {
   "cell_type": "code",
   "execution_count": null,
   "metadata": {},
   "outputs": [],
   "source": [
    "# Dictionaries are constructed with Dict()\n",
    "\n",
    "animal_groups = Dict(\"lions\" => \"pride\",\n",
    "                     \"ants\" => \"colony\",\n",
    "                     \"ferrets\" => \"business\",\n",
    "                     \"flamingos\" => \"flamboyance\")\n"
   ]
  },
  {
   "cell_type": "code",
   "execution_count": null,
   "metadata": {},
   "outputs": [],
   "source": [
    "## Dictionary operations\n",
    "\n",
    "# Get the value for a specific key\n",
    "println(animal_groups[\"flamingos\"])\n",
    "\n",
    "# get(Dictionary_name, Key_name, Default Value) - Default value is what to print if key not found\n",
    "println(get(animal_groups, \"coyotes\", \"NA\"))\n",
    "\n",
    "# Check if key is present in dictionary\n",
    "println(haskey(animal_groups, \"buffalo\"))\n",
    "\n",
    "# Add key/value pair to dictionary\n",
    "animal_groups[\"goldfish\"] = \"troubling\"\n",
    "println(animal_groups)\n",
    "\n",
    "# Get the keys of a dictionary\n",
    "println(keys(animal_groups))\n",
    "\n",
    "# Get the values from a dictionary\n",
    "println(values(animal_groups))\n"
   ]
  },
  {
   "cell_type": "markdown",
   "metadata": {},
   "source": [
    "# Flow Control in Julia\n",
    "\n",
    "Julia has the following flow control constructs:\n",
    "\n",
    "* Ternary expressions\n",
    "* If elseif else end\n",
    "* For loops\n",
    "* While loops\n",
    "* Try catch error throw"
   ]
  },
  {
   "cell_type": "markdown",
   "metadata": {},
   "source": [
    "## If else construct"
   ]
  },
  {
   "cell_type": "code",
   "execution_count": null,
   "metadata": {},
   "outputs": [],
   "source": [
    "# If else construct\n",
    "\n",
    "a = 8\n",
    "if a > 10\n",
    "    println(\"a is greater than 10\")\n",
    "elseif a < 10\n",
    "    println(\"a is less than 10\")\n",
    "else\n",
    "    println(\"a is equal to 10\")\n",
    "end"
   ]
  },
  {
   "cell_type": "markdown",
   "metadata": {},
   "source": [
    "## For loops"
   ]
  },
  {
   "cell_type": "code",
   "execution_count": null,
   "metadata": {},
   "outputs": [],
   "source": [
    "# For loop construct\n",
    "\n",
    "for i in 1:5\n",
    "    println(i)\n",
    "end"
   ]
  },
  {
   "cell_type": "code",
   "execution_count": null,
   "metadata": {},
   "outputs": [],
   "source": [
    "## Other uses of for loops\n",
    "\n",
    "# Array comprehension\n",
    "a = [n for n in 1:10]\n",
    "println(a)\n",
    "\n",
    "# Array enumeration\n",
    "b = [i for i in enumerate(rand(3))]\n",
    "println(b)\n",
    "\n",
    "# Generator expressions\n",
    "println(sum(x for x in 1:10))"
   ]
  },
  {
   "cell_type": "markdown",
   "metadata": {},
   "source": [
    "## While loops"
   ]
  },
  {
   "cell_type": "code",
   "execution_count": null,
   "metadata": {},
   "outputs": [],
   "source": [
    "# While loop construct\n",
    "\n",
    "a = 1\n",
    "b = 0\n",
    "\n",
    "while a <= 100\n",
    "    b = a + b\n",
    "    a = a + 1\n",
    "end\n",
    "println(b)"
   ]
  },
  {
   "cell_type": "markdown",
   "metadata": {},
   "source": [
    "# Packages in Julia\n",
    "\n",
    "From https://julialang.org/packages/\n",
    "\n",
    "> The Julia ecosystem contains over 10,000 packages that are registered in the General registry, which means that finding the right package can be a challenge. Fortunately, there are services that can help navigate the ecosystem, including:  \n",
    "    > * JuliaHub — a JuliaHub service that includes search of all registered open source package documentation, code search, and navigation by tags/keywords.  \n",
    "    > * Julia Packages — browse Julia packages, filter by categories, and sort them by popularity, creation date or date of last update. Also supports browsing package developers.  \n",
    "    > * Julia.jl — a manually curated taxonomy of Julia packages (category information for JuliaPackages is derived from this as well).\n",
    "\n",
    "\n",
    "Pkg is Julia's builtin package manager. It can be accessed in the REPL by typing `]`. Once you are in the Pkg REPL, packages can be added using `add <Package Name>`.\n",
    "\n",
    "You can also import `Pkg` and install applications directly from the Julia REPL or from a Jupyter cell."
   ]
  },
  {
   "cell_type": "code",
   "execution_count": null,
   "metadata": {},
   "outputs": [],
   "source": [
    "# Import Pkg and install Example.jl\n",
    "\n",
    "import Pkg\n",
    "Pkg.add(\"Example\")"
   ]
  },
  {
   "cell_type": "code",
   "execution_count": null,
   "metadata": {},
   "outputs": [],
   "source": [
    "# Use the Example.jl package\n",
    "import Example\n",
    "Example.hello(\"Julia\")"
   ]
  },
  {
   "cell_type": "markdown",
   "metadata": {},
   "source": [
    "## Loading packages\n",
    "\n",
    "Packages can be loaded using `import` as above or with `using`. When using `import`, the package name must be used to call the required function (e.g. `Example.hello`). With `using` the function can be called directly."
   ]
  },
  {
   "cell_type": "code",
   "execution_count": null,
   "metadata": {},
   "outputs": [],
   "source": [
    "# Using import\n",
    "import Example\n",
    "Example.hello(\"Julia\")\n",
    "\n",
    "# Using using\n",
    "using Example\n",
    "hello(\"Julia\")"
   ]
  },
  {
   "cell_type": "markdown",
   "metadata": {},
   "source": [
    "# Data Frames in Julia\n",
    "\n",
    "From https://dataframes.juliadata.org/stable/\n",
    "\n",
    "> DataFrames.jl provides a set of tools for working with tabular data in Julia. Its design and functionality are similar to those of pandas (in Python) and data.frame, data.table and dplyr (in R), making it a great general purpose data science tool.\n",
    "\n",
    "> DataFrames.jl plays a central role in the Julia Data ecosystem, and has tight integrations with a range of different libraries. DataFrames.jl isn't the only tool for working with tabular data in Julia – as noted below, there are some other great libraries for certain use-cases – but it provides great data wrangling functionality through a familiar interface."
   ]
  },
  {
   "cell_type": "markdown",
   "metadata": {},
   "source": [
    "## The `DataFrame` Type\n",
    "\n",
    "`DataFrame` objects represent tables (can contain mixed data types) organized as a series of vectors that correspond to columns. Take a look at the code chunk below to see how to construct a `DataFrame` from scratch."
   ]
  },
  {
   "cell_type": "code",
   "execution_count": null,
   "metadata": {},
   "outputs": [],
   "source": [
    "# Creating a DataFrame\n",
    "\n",
    "using DataFrames\n",
    "\n",
    "df = DataFrame(Birds=[\"Mockingbird\", \"Hummingbird\", \"Blue Jay\", \"Warbler\"], \n",
    "               Trees = [\"Oak\", \"Maple\", \"Pecan\", \"Elm\"],\n",
    "               Numbers = [1.4, 3.2, 0.9, 8.4])"
   ]
  },
  {
   "cell_type": "markdown",
   "metadata": {},
   "source": [
    "**Data Frames can be subset or spliced using the column and row names and numbers:**"
   ]
  },
  {
   "cell_type": "code",
   "execution_count": null,
   "metadata": {},
   "outputs": [],
   "source": [
    "# Subsetting Data Frames\n",
    "\n",
    "df = DataFrame(Birds=[\"Mockingbird\", \"Hummingbird\", \"Blue Jay\", \"Warbler\"], \n",
    "               Trees = [\"Oak\", \"Maple\", \"Pecan\", \"Elm\"],\n",
    "               Numbers = [1.4, 3.2, 0.9, 8.4])\n",
    "\n",
    "\n",
    "println(df.Birds)\n",
    "println(df.\"Trees\")\n",
    "\n",
    "println(df[2,:])\n",
    "println(df[2,1])"
   ]
  },
  {
   "cell_type": "markdown",
   "metadata": {},
   "source": [
    "**The names of columns can be obtained as strings using the `names` function, which can also be leveraged to filter the results.**"
   ]
  },
  {
   "cell_type": "code",
   "execution_count": null,
   "metadata": {},
   "outputs": [],
   "source": [
    "# Get all column names from a data frame\n",
    "names(df)"
   ]
  },
  {
   "cell_type": "code",
   "execution_count": null,
   "metadata": {},
   "outputs": [],
   "source": [
    "# Get all columns containing the letter \"e\"\n",
    "names(df, r\"e\")"
   ]
  },
  {
   "cell_type": "code",
   "execution_count": null,
   "metadata": {},
   "outputs": [],
   "source": [
    "# Get all columns of a specific type\n",
    "names(df, Float64)"
   ]
  },
  {
   "cell_type": "code",
   "execution_count": null,
   "metadata": {},
   "outputs": [],
   "source": [
    "# Subsetting data frames with `names` function\n",
    "df[:,names(df, String)]"
   ]
  },
  {
   "cell_type": "markdown",
   "metadata": {},
   "source": [
    "# Importing Data\n",
    "\n",
    "There are a number of packages that allow you to import a variety of data formats:\n",
    "\n",
    "* CSVs: CSV.jl\n",
    "* Excel: XLSX.jl\n",
    "* Apache Arrow: Arrow.jl\n",
    "* JSON: JSONTable.jl\n",
    "* Stata, SAS, SPSS: ReadStatTables.jl\n",
    "* R data files: RData.jl"
   ]
  },
  {
   "cell_type": "code",
   "execution_count": null,
   "metadata": {},
   "outputs": [],
   "source": [
    "# Get current working directory\n",
    "pwd()\n"
   ]
  },
  {
   "cell_type": "code",
   "execution_count": null,
   "metadata": {},
   "outputs": [],
   "source": [
    "# Get contents of current directory\n",
    "readdir()"
   ]
  },
  {
   "cell_type": "code",
   "execution_count": null,
   "metadata": {},
   "outputs": [],
   "source": [
    "# Read in carnivores.csv file using CSV.jl\n",
    "using CSV, DataFrames\n",
    "carnivores = DataFrame(CSV.File(\"carnivores.csv\"))"
   ]
  },
  {
   "cell_type": "code",
   "execution_count": null,
   "metadata": {},
   "outputs": [],
   "source": [
    "# Use XLSX.jl to read in data.xlsx\n",
    "using XLSX\n",
    "excel_data = XLSX.readxlsx(\"data.xlsx\")\n"
   ]
  },
  {
   "cell_type": "code",
   "execution_count": null,
   "metadata": {},
   "outputs": [],
   "source": [
    "# Read in a specific sheet\n",
    "excel_sec = DataFrame(XLSX.readtable(\"data.xlsx\", \"ramen\"))"
   ]
  },
  {
   "cell_type": "markdown",
   "metadata": {},
   "source": [
    "# Data Visualization"
   ]
  },
  {
   "cell_type": "markdown",
   "metadata": {},
   "source": [
    "We'll be using the `Plots` package, but there are a number of different plotting packages available in Julia and the documentation for most Julia packages is really extensive. Let's start off with reading in some data and then work we'll work through some different plot types."
   ]
  },
  {
   "cell_type": "code",
   "execution_count": null,
   "metadata": {},
   "outputs": [],
   "source": [
    "using XLSX, DataFrames, Plots\n",
    "\n",
    "excel_sec = DataFrame(XLSX.readtable(\"data.xlsx\", \"SEC\"))\n",
    "names(excel_sec)"
   ]
  },
  {
   "cell_type": "markdown",
   "metadata": {},
   "source": [
    "## Scatter Plot"
   ]
  },
  {
   "cell_type": "code",
   "execution_count": null,
   "metadata": {},
   "outputs": [],
   "source": [
    "Plots.plot(excel_sec.RBI, \n",
    "        excel_sec.HR,\n",
    "        seriestype=:scatter,\n",
    "        label=\"RBIs vs. Home Runs\",\n",
    "        xlabel = \"RBIs\",\n",
    "        ylabel = \"Home Runs\")"
   ]
  },
  {
   "cell_type": "markdown",
   "metadata": {},
   "source": [
    "## Histogram"
   ]
  },
  {
   "cell_type": "code",
   "execution_count": null,
   "metadata": {},
   "outputs": [],
   "source": [
    "histogram(excel_sec.RBI, label = \"RBIs\", color=:maroon)\n"
   ]
  },
  {
   "cell_type": "markdown",
   "metadata": {},
   "source": [
    "## Box Plots"
   ]
  },
  {
   "cell_type": "code",
   "execution_count": null,
   "metadata": {},
   "outputs": [],
   "source": [
    "using StatsPlots\n",
    "Plots.boxplot(excel_sec.Team, excel_sec.RBI, label=\"RBIs Per Team\", xrotation = 45)"
   ]
  },
  {
   "cell_type": "code",
   "metadata": {},
   "source": [
    "ramen = DataFrame(XLSX.readtable(\"data.xlsx\", \"ramen\"))\n",
    "\n",
    "ramen = filter(:Stars => !=(\"Unrated\"), ramen)\n",
    "ramen = filter(:Country => ==(\"UK\"), ramen)\n",
    "boxplot(ramen.Brand, ramen.Stars, label = \"Stars Per Brand\", xrotation=30)"
   ]
  }
 ],
 "metadata": {
  "kernelspec": {
   "display_name": "Julia 1.9.4",
   "language": "julia",
   "name": "julia-1.9"
  },
  "language_info": {
   "file_extension": ".jl",
   "mimetype": "application/julia",
   "name": "julia",
   "version": "1.9.4"
  },
  "toc": {
   "base_numbering": 1,
   "nav_menu": {},
   "number_sections": true,
   "sideBar": true,
   "skip_h1_title": false,
   "title_cell": "Table of Contents",
   "title_sidebar": "Contents",
   "toc_cell": false,
   "toc_position": {
    "height": "calc(100% - 180px)",
    "left": "10px",
    "top": "150px",
    "width": "372px"
   },
   "toc_section_display": true,
   "toc_window_display": true
  }
 },
 "nbformat": 4,
 "nbformat_minor": 4
}
