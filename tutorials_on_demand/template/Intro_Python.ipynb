{
 "cells": [
  {
   "cell_type": "markdown",
   "metadata": {
    "id": "SJHzqqh2-lSg"
   },
   "source": [
    "# **Introduction to Python**\n",
    "## High Performance Research Computing, Texas A & M University\n",
    "\n",
    "_ _ _ _\n",
    "\n",
    "Learn Python fundamentals using this Jupyter Notebook integrated development environment. "
   ]
  },
  {
   "cell_type": "markdown",
   "metadata": {
    "id": "9GZx_JL0_iwj"
   },
   "source": [
    "# Jupyter Basics\n",
    "In this section you will learn basics of Jupyter Notebook, and you will create your first program (Hello World!). "
   ]
  },
  {
   "cell_type": "markdown",
   "metadata": {
    "id": "fHtyNWIi-xMg"
   },
   "source": [
    "## Example. This is a Text cell\n",
    "\n",
    "Click on it. You will see a box appear around the cell, so you can see its boundaries.  "
   ]
  },
  {
   "cell_type": "markdown",
   "metadata": {
    "id": "OFDxnc4E-8F2"
   },
   "source": [
    "## Example. This is a Text cell with hidden content \n",
    "\n",
    "Click the button to see the hidden content. \n",
    "\n",
    "<p></p>\n",
    "<details><summary><p style=\"padding: 10px; border: 2px solid;\"><big>CLICK ME</big></p></summary>\n",
    "<p>\n",
    "\n",
    "Cells like these will be used to hide the solutions to exercises. \n",
    "\n",
    "</p>\n",
    "</details>"
   ]
  },
  {
   "cell_type": "markdown",
   "metadata": {
    "id": "rBY1XqQF-5AY"
   },
   "source": [
    "## Example. The cell below this one is a Code cell\n",
    "\n",
    "Click on it. "
   ]
  },
  {
   "cell_type": "code",
   "execution_count": null,
   "metadata": {
    "id": "PuoAxKN8-ekp"
   },
   "outputs": [],
   "source": [
    "# This is a code cell. Lines that start with # are comments. \n",
    "print(\"to execute a code cell, select it and click ▶ Run or ctrl+enter\")"
   ]
  },
  {
   "cell_type": "markdown",
   "metadata": {
    "id": "y-A0x1G9-25P"
   },
   "source": [
    "## Exercise. Create a text cell. \n",
    "\n",
    "To create a text cell, use the `Insert` menu. It will appear above or below the currently selcted cell. (Recommended: select this cell first). \n",
    "\n",
    "Then use the **Cell > Cell Type** menu and select **markdown**. \n",
    "\n",
    "To edit a text cell, double-click on it. Type some words. \"Execute\" the cell to turn it into formatted text. "
   ]
  },
  {
   "cell_type": "markdown",
   "metadata": {
    "id": "Rs-5Zenw_E7A"
   },
   "source": [
    "## Exercise. Your first program\n",
    "To create a code cell, use the **Insert** menu. It will appear above or below the currently selcted cell. (Recommended: select this cell first) \n",
    "\n",
    "Enter the text `print(\"hello world\")` in the cell and execute it. \n",
    "\n",
    "*   Fun Fact: the text `\"hello world\"` in quotes is a *string*.\n",
    "*   Fun Fact: the text `print()` with parentheses is a *function*. "
   ]
  },
  {
   "cell_type": "markdown",
   "metadata": {
    "id": "W_R5zN0a_Hgw"
   },
   "source": [
    "## Exercise. Print multiple times\n",
    "\n",
    "Enter some text inside the quotes within the `print()` function and execute it. "
   ]
  },
  {
   "cell_type": "code",
   "execution_count": null,
   "metadata": {
    "id": "U8dCfx2Y_J8A"
   },
   "outputs": [],
   "source": [
    "for i in range(5):\n",
    "    print(\"\")"
   ]
  },
  {
   "cell_type": "markdown",
   "metadata": {
    "id": "CU8m5GC3_MUR"
   },
   "source": [
    "## Exercise. Let someone else do the work\n",
    "\n",
    "To use code other people have written and published (called a **module**) use the **import** statement. \n",
    "\n",
    "Create a code cell, enter the text `import __hello__`, and run the cell. This means someone wrote the hello world program and named it `__hello__ `, so you can use it. \n"
   ]
  },
  {
   "cell_type": "code",
   "execution_count": null,
   "metadata": {
    "id": "mVjopeW5_ORJ"
   },
   "outputs": [],
   "source": [
    "import __hello__"
   ]
  },
  {
   "cell_type": "markdown",
   "metadata": {
    "id": "2OxVqDO5_VvZ"
   },
   "source": [
    "## Exercise. Your work\n",
    "1. Save the notebook with menu **File > save and checkpoint**. \n",
    "\n",
    "2. Reset the program (not delete the code). Use menu **Kernel > Restart**\n",
    "\n",
    "3. Tidy up the notebook. Select a code cell. Use menu **Cell > All Outputs > Clear**"
   ]
  },
  {
   "cell_type": "markdown",
   "metadata": {
    "id": "Av2zlJ7PAqCG"
   },
   "source": [
    "# Variables"
   ]
  },
  {
   "cell_type": "markdown",
   "metadata": {
    "id": "8AGvVPwnAsfz"
   },
   "source": [
    "## What is a Variable?\n",
    "A variable in python has two components. \n",
    "\n",
    "\n",
    "1.   An \"object\" which is a space in memory where data lives. \n",
    "2.   A \"name\" which is a label we use to refer to that object.\n",
    "\n",
    "Objects are like boxes, and names are like stickers we put on them. It is important to remember that the box and the sticker are separable; you can take the sticker off and attach it to another box. \n",
    "\n",
    "![boxlabelcat.png](data:image/png;base64,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)\n",
    "\n",
    "Also, there are rules about what you can use in a variable's name. You could read the [variable names page](https://docs.python.org/3/reference/lexical_analysis.html#identifiers) from the python manual, but really, you should just google it. "
   ]
  },
  {
   "cell_type": "markdown",
   "metadata": {
    "id": "NrFMgVOnA4Od"
   },
   "source": [
    "## Example. Print a Variable\n",
    "\n",
    "We have seen `print(\"hello world!\")`\n",
    "\n",
    "Now try it with a variable:"
   ]
  },
  {
   "cell_type": "code",
   "execution_count": null,
   "metadata": {
    "id": "fGOyVeOWBMe3"
   },
   "outputs": [],
   "source": [
    "example_variable=\"hello world!\"\n",
    "print(example_variable)"
   ]
  },
  {
   "cell_type": "markdown",
   "metadata": {
    "id": "257pCVZmBOEt"
   },
   "source": [
    "In the code above, the *name* of the variable is ```example_variable``` . \n",
    "\n",
    "The *object* is a space in memory, and the object contains the data ```\"hello world!\"```. "
   ]
  },
  {
   "cell_type": "markdown",
   "metadata": {
    "id": "aMXWv2iLBZSv"
   },
   "source": [
    "## Assignment Operator\n",
    "The *assignment operator* is ```=``` (a single equals sign). The name of a variable goes on the left. The object and/or its data goes on the right. \n",
    "\n",
    ">```variable_name = <object and/or data>```\n",
    "\n",
    "The right side of the ```=``` statement is called an *expression*. It can contain literal data, or the name of a variable, or even other operations. \n",
    "\n",
    "\n",
    "### Rules:\n",
    "If the variable name already exists, it is overwritten. A variable name can only be attached to one object at a time.\n",
    "\n",
    "\n",
    "In most cases, the expression refers to the contents of an object. Assignment operator therefore creates a new object to copy that contents into. If this leaves behind an object with no label attached, the object is discarded. "
   ]
  },
  {
   "cell_type": "markdown",
   "metadata": {
    "id": "uAaXJh5vBm4t"
   },
   "source": [
    "## Inspecting variables\n",
    "Suppose we have a variable named ```a```.\n",
    "\n",
    "The print() statement allows us to see the contents of a variable. \n",
    ">```\n",
    ">print(a)\n",
    ">```\n",
    "\n",
    "Use comma to separate multiple expressions. It's good practice to print a description while you're printing data, so you don't forget what the data means. Example usage:\n",
    ">```\n",
    ">print(\"variable a contents:\", a)\n",
    ">```\n",
    "\n",
    "A special case: the name of a variable can be used as a statement. Python will try to tell you something about it.\n",
    "\n",
    "Example usage:\n",
    "\n",
    ">```\n",
    ">print(\"what is variable a?\")\n",
    ">a\n",
    ">```"
   ]
  },
  {
   "cell_type": "markdown",
   "metadata": {
    "id": "hPPB2VT-B2zP"
   },
   "source": [
    "## Exercise. Variable arithmetic\n",
    "Create two variables ```a``` and ```b``` and assign them number values. Check their contents. Remember to print descriptions along with the data. \n",
    "\n",
    "Also print the expression `a+b`. \n",
    "\n",
    "Use the cell below to get started. Fill in what's missing and then execute it. "
   ]
  },
  {
   "cell_type": "code",
   "execution_count": null,
   "metadata": {
    "id": "OCNKnal7ByZo"
   },
   "outputs": [],
   "source": [
    "a=\n",
    "b=\n",
    "print()\n",
    "print()\n",
    "print()"
   ]
  },
  {
   "cell_type": "markdown",
   "metadata": {
    "cellView": "form",
    "id": "uKyvCXwGB7RA"
   },
   "source": [
    "<details><summary><p style=\"padding: 10px; border: 2px solid;\"><big>Click here to see solution</big></p></summary>\n",
    "<p>\n",
    "\n",
    "\n",
    "```\n",
    "a=1\n",
    "b=2\n",
    "print(\"a \", a)\n",
    "print(\"b \", b)\n",
    "print(\"a+b\",a+b)\n",
    "```\n",
    "</p>\n",
    "</details>"
   ]
  },
  {
   "cell_type": "markdown",
   "metadata": {
    "id": "iSWZ2V-HCEoQ"
   },
   "source": [
    "## Exercise. Variables in memory\n",
    "### Question:\n",
    "Do variables persist in memory across cells? Do an **experiment** to find out. \n",
    "\n",
    "\n",
    "\n",
    "1.   In the first cell, create a variable with a number value, then print the variable. e.g. `a=1`, `print(a)`\n",
    "2.   In the second cell, *reassign* the variable equal to itself plus 1, then print the variable. e.g. `a=a+1`, `print(a)`\n",
    "\n",
    "Execute these cells multiple times in different combinations. Try executing each cell twice in a row. Does it do what you expect?"
   ]
  },
  {
   "cell_type": "code",
   "execution_count": null,
   "metadata": {
    "id": "NdltbmsSCNCa"
   },
   "outputs": [],
   "source": [
    "#create a variable"
   ]
  },
  {
   "cell_type": "code",
   "execution_count": null,
   "metadata": {
    "id": "PUN7LbodCNv6"
   },
   "outputs": [],
   "source": [
    "#reassign the variable to itself plus one"
   ]
  },
  {
   "cell_type": "markdown",
   "metadata": {
    "id": "YBCoiDPnCRGz"
   },
   "source": [
    "## Exercise. Iterating variables\n",
    "\n",
    "We previously used the `for x in range()` loop to repeat an action many times.\n",
    "\n",
    "It can also be used to set the value of the a variable to multiple different values. \n",
    "\n",
    "The cell below prints out integers from 1 to 10. Try it! "
   ]
  },
  {
   "cell_type": "code",
   "execution_count": null,
   "metadata": {
    "id": "JVxRlBeCCxPc"
   },
   "outputs": [],
   "source": [
    "print(\"first ten integers\")\n",
    "for x in range(1,11):\n",
    "    print(x)"
   ]
  },
  {
   "cell_type": "markdown",
   "metadata": {},
   "source": [
    "Modify the following cell to print out the first ten *triangular numbers*. The first five triangular numbers are: 1, 3, 6, 10, 15. \n",
    "\n",
    "* Note: all the lines of code after the `for` statement must begin with four spaces."
   ]
  },
  {
   "cell_type": "code",
   "execution_count": null,
   "metadata": {
    "id": "ov9MDc9lCjwd"
   },
   "outputs": [],
   "source": [
    "print(\"first ten triangular numbers\")\n",
    "#your code here\n",
    "for x in range(1,11):\n",
    "    #your code here\n",
    "    print()"
   ]
  },
  {
   "cell_type": "markdown",
   "metadata": {
    "cellView": "form",
    "id": "Rr6l4ZJzCnFj"
   },
   "source": [
    "<details><summary><p style=\"padding: 10px; border: 2px solid;\"><big>Click here to see solution</big></p></summary>\n",
    "<p>\n",
    "\n",
    "```\n",
    "print(\"first ten triangular numbers\")\n",
    "sum=0\n",
    "for x in range(1,11):\n",
    "    sum=sum+x\n",
    "    print(sum)\n",
    "```\n",
    "</p>\n",
    "</details>"
   ]
  },
  {
   "cell_type": "markdown",
   "metadata": {
    "id": "Z29nh4DKDWTl"
   },
   "source": [
    "## Exercise. Module as a variable\n",
    "\n",
    "**Modules** are objects too?\n",
    "\n",
    "Use `import __hello__` just like before, but this time also try assigning a variable to it with `=` (as though the module was data), and print your variable. "
   ]
  },
  {
   "cell_type": "code",
   "execution_count": null,
   "metadata": {
    "id": "YgEcjmazDbNe"
   },
   "outputs": [],
   "source": [
    "import __hello__\n",
    " = \n",
    "print()"
   ]
  },
  {
   "cell_type": "markdown",
   "metadata": {
    "cellView": "form",
    "id": "P3kjgV_QDcrt"
   },
   "source": [
    "<details><summary><p style=\"padding: 10px; border: 2px solid;\"><big>Click here to see solution</big></p></summary>\n",
    "<p>\n",
    "    \n",
    "```\n",
    "import __hello__ \n",
    "print(\"b=__hello__\")\n",
    "b=__hello__\n",
    "print(\"contents of b:\", b)\n",
    "```\n",
    "</p>\n",
    "</details>"
   ]
  },
  {
   "cell_type": "markdown",
   "metadata": {
    "id": "uuxPd1uuDzOI"
   },
   "source": [
    "## Exercise. Bugs\n",
    "Something is wrong with the code below! can you figure it out and fix it?"
   ]
  },
  {
   "cell_type": "code",
   "execution_count": null,
   "metadata": {
    "id": "JSwcI8avD1nu"
   },
   "outputs": [],
   "source": [
    "print(cheat_codes)"
   ]
  },
  {
   "cell_type": "markdown",
   "metadata": {
    "cellView": "form",
    "id": "33A4ZuFeD31u"
   },
   "source": [
    "<details><summary><p style=\"padding: 10px; border: 2px solid;\"><big>Click here to see solution</big></p></summary>\n",
    "<p>\n",
    "you have to create the variable with = before you can use it in an expression \n",
    "    \n",
    "```\n",
    "cheat_codes=\"sorry, no cheating\"\n",
    "print(cheat_codes)\n",
    "```\n",
    "</p>\n",
    "</details>"
   ]
  },
  {
   "cell_type": "markdown",
   "metadata": {
    "id": "vBTsHP87D3Uv"
   },
   "source": [
    "## Exercise. Bugs\n",
    "Something is wrong with the code below! can you figure it out and fix it?"
   ]
  },
  {
   "cell_type": "code",
   "execution_count": null,
   "metadata": {
    "id": "XjyCm5KOD8vu"
   },
   "outputs": [],
   "source": [
    "1st_place_winner=\"Me, of course\"\n",
    "print(1st_place_winner)"
   ]
  },
  {
   "cell_type": "markdown",
   "metadata": {
    "cellView": "form",
    "id": "6xuRv44wD-Em"
   },
   "source": [
    "<details><summary><p style=\"padding: 10px; border: 2px solid;\"><big>Click here to see solution</big></p></summary>\n",
    "<p>\n",
    "\n",
    "variable names can't begin with numbers.     \n",
    "```\n",
    "first_place_winner=\"Me, of course\"\n",
    "print(first_place_winner)\n",
    "```\n",
    "</p>\n",
    "</details>"
   ]
  },
  {
   "cell_type": "markdown",
   "metadata": {
    "id": "4T0M3wbyFibU"
   },
   "source": [
    "# Variable Types"
   ]
  },
  {
   "cell_type": "markdown",
   "metadata": {
    "id": "Go2oyz5PFkIk"
   },
   "source": [
    "## What is a Variable Type?\n",
    "A variable in python has different properties depending on what kind of data it represents, called the variable's type. Python automatically assigns and keeps track of variables types, based on the data you give it, but the type it chooses is not shown unless you ask. "
   ]
  },
  {
   "cell_type": "markdown",
   "metadata": {
    "id": "Pe97cIjkFm90"
   },
   "source": [
    "## Common Data Types\n",
    "\n",
    "\n",
    "*   Numbers\n",
    "*   Text\n",
    "*   True/False\n",
    "\n"
   ]
  },
  {
   "cell_type": "markdown",
   "metadata": {
    "id": "F--wn4RYF9mU"
   },
   "source": [
    "## Numbers\n",
    "Numbers are represented by two different types:\n",
    "\n",
    "1.   **Integers** (... -2, -1, 0, 1, 2 ...)\n",
    "2.   **Floating-point** (everything else; has a decimal point `.`)\n",
    "\n",
    "You can do arithmetic with both of them: `+ - * /`. "
   ]
  },
  {
   "cell_type": "markdown",
   "metadata": {
    "id": "2grZQZkDGCSX"
   },
   "source": [
    "## Text\n",
    "\n",
    "A **string** is a sequence of characters (not just the letters 'a-z'). \n",
    "\n",
    "String literals are easy to spot: they are contained in single quotes, double quotes, or triple quotes. \n",
    "\n",
    "String variables can be concatenated, formatted, sliced, searched... any many more! (A future lesson)."
   ]
  },
  {
   "cell_type": "markdown",
   "metadata": {
    "id": "lmMRVYdMGHi0"
   },
   "source": [
    "## True/False\n",
    "**Boolean** variables can be either `True` or `False`. Sometimes, the values `0` and `1` are used instead. "
   ]
  },
  {
   "cell_type": "markdown",
   "metadata": {
    "id": "2XmoIo3aGXCl"
   },
   "source": [
    "## Example Data Types\n",
    "The cell below contains some common variable types"
   ]
  },
  {
   "cell_type": "code",
   "execution_count": null,
   "metadata": {
    "id": "XJCN5jsjGaJf"
   },
   "outputs": [],
   "source": [
    "a=1\n",
    "b=0.5\n",
    "c='hello'\n",
    "d=\"hello\"\n",
    "e='''\n",
    "hello\n",
    "'''\n",
    "f=True"
   ]
  },
  {
   "cell_type": "markdown",
   "metadata": {
    "id": "by7947ilGmhN"
   },
   "source": [
    "## Inspecting variable types\n",
    "\n",
    "The `type()` function allows us to see the type of a variable.\n",
    "\n",
    "Example: Suppose we have a variable named `a`.\n",
    "\n",
    ">```\n",
    ">print(type(a))\n",
    ">```\n",
    "\n",
    "The output will look like `<class 'type'>`.\n",
    "\n",
    "The type keywords for these common types are:\n",
    "\n",
    "\n",
    "*   `int` for **integer**\n",
    "*   `float` for **floating-point** \n",
    "*   `str` for **string**\n",
    "*   `bool` for **boolean**\n",
    "\n",
    "\n",
    "\n",
    "\n"
   ]
  },
  {
   "cell_type": "markdown",
   "metadata": {
    "id": "Ir842W3OGskP"
   },
   "source": [
    "## Exercise. Inspecting types\n",
    "Create some variables. \n",
    "\n",
    "Assign them values from among each of the four types described above. \n",
    "\n",
    "Use `type()` to see if you were right. \n",
    "\n",
    "Use the cell below to get started. "
   ]
  },
  {
   "cell_type": "code",
   "execution_count": null,
   "metadata": {
    "id": "ybGAZA8IGrwG"
   },
   "outputs": [],
   "source": [
    "a=\n",
    "print(a, \"is a \", type(a))"
   ]
  },
  {
   "cell_type": "markdown",
   "metadata": {
    "id": "E4AmaVB0G7b3"
   },
   "source": [
    "## Converting variable types\n",
    "Variables of one type can be converted to another using Python builtin functions. The functions have the same name as the variable type keywords. \n",
    "```\n",
    "int()\n",
    "float()\n",
    "str()\n",
    "```\n",
    "If the original type of the variable is a *string*, then int() and float() will do their best to figure out if that string represents a number. "
   ]
  },
  {
   "cell_type": "markdown",
   "metadata": {
    "id": "TH5yzIkzIaAF"
   },
   "source": [
    "## Example. Float conversion\n",
    "\n",
    "Use the cell below to try out a conversion, and  inspect the variable before and after conversion."
   ]
  },
  {
   "cell_type": "code",
   "execution_count": null,
   "metadata": {
    "id": "Mvj3UNIBH--L"
   },
   "outputs": [],
   "source": [
    "a=1\n",
    "print(a, 'converted to float:', float(a))"
   ]
  },
  {
   "cell_type": "markdown",
   "metadata": {
    "id": "Uh5boQX1IiA8"
   },
   "source": [
    "## Exercise. Float conversion\n",
    "\n",
    "Spell out a floating point number in scientific notation (looks like #.#e#) in a string type variable. \n",
    "\n",
    "Have python convert this to a **floating point** variable. Display the value and the type. \n",
    "\n",
    "Use the cell below to get started."
   ]
  },
  {
   "cell_type": "code",
   "execution_count": null,
   "metadata": {
    "id": "XGOL47PjIhZ7"
   },
   "outputs": [],
   "source": [
    "text= \n",
    "number= \n",
    "print()"
   ]
  },
  {
   "cell_type": "markdown",
   "metadata": {
    "cellView": "form",
    "id": "pd50i6xTI3S8"
   },
   "source": [
    "<details><summary><p style=\"padding: 10px; border: 2px solid;\"><big>Click here to see solution</big></p></summary>\n",
    "<p>\n",
    "\n",
    "    \n",
    "```\n",
    "text=\"5.5e3\"\n",
    "number=float(text)\n",
    "print(number, type(number))\n",
    "```\n",
    "</p>\n",
    "</details>\n"
   ]
  },
  {
   "cell_type": "markdown",
   "metadata": {
    "id": "C38dPoSTJKPF"
   },
   "source": [
    "## Exercise. Boolean conversion\n",
    "\n",
    "Create a variable with any value that's not a boolean. \n",
    "\n",
    "Convert to boolean. Display the value and the type. \n",
    "\n",
    "See if you can find a value that converts to boolean `False`."
   ]
  },
  {
   "cell_type": "code",
   "execution_count": null,
   "metadata": {
    "id": "U1L6uhnZJH88"
   },
   "outputs": [],
   "source": [
    "thing= \n",
    "boolean= \n",
    "print()"
   ]
  },
  {
   "cell_type": "markdown",
   "metadata": {
    "cellView": "form",
    "id": "hu7mikNQJX43"
   },
   "source": [
    "<details><summary><p style=\"padding: 10px; border: 2px solid;\"><big>Click here to see solution</big></p></summary>\n",
    "<p>\n",
    "    \n",
    "```\n",
    "thing=99\n",
    "boolean=bool(thing)\n",
    "print(boolean, type(boolean))\n",
    "```\n",
    "\n",
    "Hint: the number `0` and the string `''` are two cases that convert to boolean `False`.\n",
    "\n",
    "</p>\n",
    "</details>\n",
    "\n"
   ]
  },
  {
   "cell_type": "markdown",
   "metadata": {
    "id": "-VBjc8v_KKUH"
   },
   "source": [
    "# Math in Python\n",
    "Python language was designed to make math programming intuitive. The rules are mostly the same as they are in elementary school. \n",
    "\n",
    "Operations transform one or more numbers into a new number. Order of operations determines how an expression is evaluated. "
   ]
  },
  {
   "cell_type": "markdown",
   "metadata": {
    "id": "yhMLPtFCKM0g"
   },
   "source": [
    "## The Usual Arithmetic\n",
    "\n",
    "In programming, these symbols are called *operators*. They are evaluated in the standard order. If two or more operations are tied, then they go left-to-right. \n",
    "\n",
    "Order|Name    | Symbol(s)\n",
    "----|------|-------\n",
    "First|Parentheses|`()`\n",
    "2nd | Exponent|`** `\n",
    "3rd|Multiply |`*`\n",
    "3rd|Divide |`/`\n",
    "4th|Add | `+` \n",
    "4th|Subtract | `-` \n",
    "5th|Equality|`==`\n",
    "5th|Not equality|`!=`\n",
    "5th|Inequality | `>,  >=,  <,  <=`\n",
    "Last|Assignment|`=`\n",
    "\n",
    "The arithmetic operators return a Number as the result (if it's defined), and the comparison operators return a Boolean (True or False). \n",
    "\n",
    "Reminder: although `=` is also an operator, it isn't a math equality. It's the assignment operator. \n"
   ]
  },
  {
   "cell_type": "markdown",
   "metadata": {
    "id": "RDocALZNKV2o"
   },
   "source": [
    "## Example. Arithmetic\n",
    "Guess what the result of the cell will be. Try it! Were you correct?"
   ]
  },
  {
   "cell_type": "code",
   "execution_count": null,
   "metadata": {
    "id": "U4u5rNpkKbPQ"
   },
   "outputs": [],
   "source": [
    "result = 1 + 2 * 3 - 3 ** 2 / ( 1 + 8 )\n",
    "print(result)"
   ]
  },
  {
   "cell_type": "markdown",
   "metadata": {
    "id": "gTgJS4qVKaYe"
   },
   "source": [
    "## Example. Comparison\n",
    "Guess what the result of the cell will be. Try it! Were you correct?"
   ]
  },
  {
   "cell_type": "code",
   "execution_count": null,
   "metadata": {
    "id": "k-fULz1_Kg7H"
   },
   "outputs": [],
   "source": [
    "result = 1 + 2 == 2 + 1\n",
    "print(result)"
   ]
  },
  {
   "cell_type": "markdown",
   "metadata": {
    "id": "edpZKnBTKim_"
   },
   "source": [
    "## Exercise. Arithmetic and Comparison\n",
    "Is the expression \"3 multiplied by itself eleven times\" greater than the expression \"2 multiplied by itself fifteen times\" ?\n",
    "\n",
    "Write some code to find out the answer!"
   ]
  },
  {
   "cell_type": "code",
   "execution_count": null,
   "metadata": {
    "id": "Rh4lybL4KnWw"
   },
   "outputs": [],
   "source": [
    "result=\n",
    "print(result)"
   ]
  },
  {
   "cell_type": "markdown",
   "metadata": {
    "cellView": "form",
    "id": "ze6ClhiOKolZ"
   },
   "source": [
    "<details><summary><p style=\"padding: 10px; border: 2px solid;\"><big>Click here to see solution</big></p></summary>\n",
    "<p>\n",
    "\n",
    "    \n",
    "```\n",
    "result= 3**11 > 2**15\n",
    "print(result)\n",
    "```\n",
    "</p>\n",
    "</details>\n"
   ]
  },
  {
   "cell_type": "markdown",
   "metadata": {
    "id": "HulhjRM_KrfR"
   },
   "source": [
    "## Logic\n",
    "\n",
    "Logic is basically arithmetic. At least, that's how a programmer would see it. \n",
    "\n",
    "Order|Name   | Symbol\n",
    "----|----|--\n",
    "first|Parentheses |`()`\n",
    " | (Arithmetic)|\n",
    " |(Comparisons)|\n",
    "6th|Not|`not`\n",
    "7th| And|`and `\n",
    "8th|Or|`or`\n",
    "last|Assignment |`=`\n",
    "\n",
    "These Boolean operations (True False) are evaluated after the comparison operators. They work on Booleans. The result is also a Boolean. \n"
   ]
  },
  {
   "cell_type": "markdown",
   "metadata": {
    "id": "5JV0rE4TLfbl"
   },
   "source": [
    "## Example. Logic\n",
    "Guess what the result of the cell will be. Try it! Were you right?"
   ]
  },
  {
   "cell_type": "code",
   "execution_count": null,
   "metadata": {
    "id": "J4t7dGywLh5L"
   },
   "outputs": [],
   "source": [
    "result = 2>1 and 3==4 or 1>0\n",
    "print(result)"
   ]
  },
  {
   "cell_type": "markdown",
   "metadata": {
    "id": "W_ZgcTO3Ljwq"
   },
   "source": [
    "## Exercise. Logic\n",
    " \n",
    "Write a program that figures out whether any given year is a leap year. \n",
    "\n",
    "Leap years are all the years that are a multiple of 4 except for the ones that are a multiple of 100. \n",
    "\n",
    "Test different cases. \n",
    "\n",
    "\n",
    "*   Hint: the modulus operator `%` is remainder-after-division. E.g.\n",
    "\n",
    "  ```\n",
    "  53 % 10 == 3\n",
    "  ```\n",
    "\n",
    "  If the remainder is zero, the numbers are perfectly divisible. \n",
    "  \n",
    "  \n",
    "\n",
    "*   Hint: you can use the `input()` funtion to get a new value for a variable, rather than re-writing the code for each test. \n",
    "*   Hint: do *not* use `if` statements (if you have heard of them)"
   ]
  },
  {
   "cell_type": "code",
   "execution_count": null,
   "metadata": {
    "id": "9cuPgr_eLm0T"
   },
   "outputs": [],
   "source": [
    "year=int(input(\"enter a year (and then <enter>):\"))\n",
    "#your code here"
   ]
  },
  {
   "cell_type": "markdown",
   "metadata": {
    "cellView": "form",
    "id": "UfvsAFf5Lox0"
   },
   "source": [
    "<details><summary><p style=\"padding: 10px; border: 2px solid;\"><big>Click here to see solution</big></p></summary>\n",
    "<p>\n",
    "\n",
    "    \n",
    "```\n",
    "year=int(input(\"enter a year (and then <enter>):\"))\n",
    "success= year%4 ==0 and not year%100 ==0\n",
    "print(success)\n",
    "```\n",
    "    \n",
    "</p>\n",
    "</details>\n"
   ]
  },
  {
   "cell_type": "markdown",
   "metadata": {
    "id": "iKjKsEdoNOlm"
   },
   "source": [
    "# Using Functions"
   ]
  },
  {
   "cell_type": "markdown",
   "metadata": {
    "id": "l9Vz6AdyNT5R"
   },
   "source": [
    "## Functions are tiny machines\n",
    "Like in Math, in programming a *function* has inputs and outputs. In python specifically, the inputs are called *arguments* and the outputs are called   *return* values. The arguments live in parentheses. Looks like this:\n",
    "\n",
    "```\n",
    "return_values = function(arguments)\n",
    "```\n",
    "We have seen this before with the type conversion functions like `int()`. \n",
    "## Types\n",
    "Functions are often specific about which data types are expected for the inputs and outputs. An example is the `int()` function. It expects a string or a float as its argument and always returns an integer. \n",
    "\n",
    "```\n",
    "<integer> = int(<string> or <float>)\n",
    "```\n",
    "## Functions do stuff\n",
    "Unlike in math, a function can additionally take some action that affects parts of the program outside of itself. An example is the `print()` statement which affects the *program* output (not the function output). In this example, the return value is not used. \n",
    "\n",
    "```\n",
    "print(arguments) \n",
    "```\n",
    "\n",
    "## Arguments\n",
    "If there are multiple arguments, there are two ways to specify which ones are which. \n",
    "### \"Regular\" arguments \n",
    "\"Regular\" arguments  are comma-separated and must be in a specific order. \n",
    "```\n",
    "function( arg1, arg2, arg3 )\n",
    "```\n",
    "The same goes for multiple outputs. \n",
    "```\n",
    "out1, out2, out3 = function()\n",
    "```\n",
    "### \"keyword\" arguments\n",
    "\"keyword arguments\" or *kwargs* for short, are in the form of `name=value` and they don't have to be in a specific order. These are often optional and have a default value. \n",
    "\n",
    "```\n",
    "function(arg3name=arg3value, arg1name=arg1value, arg2name=arg2value)\n",
    "```\n",
    "* Notice I put them out of order. It's OK. "
   ]
  },
  {
   "cell_type": "markdown",
   "metadata": {
    "id": "_8Q_EOMjOvgH"
   },
   "source": [
    "## Example. Keyword argument\n",
    "\n",
    "The `print()` function we have used before always does a new line. \n",
    "\n",
    "We can turn that off with the keyword argument named `end`.\n",
    "\n",
    "The default value of `end` is \"a newline character\". \n",
    "\n",
    "What happens if we set it to `''` instead?\n"
   ]
  },
  {
   "cell_type": "code",
   "execution_count": null,
   "metadata": {
    "id": "Nv_xFpfxO9H-"
   },
   "outputs": [],
   "source": [
    "print(\"Hello world!\", end='')\n",
    "print(\"Hello world?\", end='')\n",
    "print(\"Hello world.\", end='')"
   ]
  },
  {
   "cell_type": "markdown",
   "metadata": {
    "id": "_DXulmBGNWqB"
   },
   "source": [
    "## Example. Discovering functions\n",
    "\n",
    "In Jupyter, functions come with **help cards** that tell you how to use them. \n",
    "\n",
    "You can print a help card with `help( <function_name> )`. \n",
    "\n",
    "Execute the cells below. Try to determine whether the function has any arguments, return values, or type expectations. \n",
    "\n",
    "### `!!!` Make sure your runtime is connected `!!!`\n",
    "(you may have to run a cell to get it started). \n",
    "\n"
   ]
  },
  {
   "cell_type": "code",
   "execution_count": null,
   "metadata": {
    "id": "MIyccQKMNXSw"
   },
   "outputs": [],
   "source": [
    "#how to use abs() function?\n",
    "help(abs)"
   ]
  },
  {
   "cell_type": "code",
   "execution_count": null,
   "metadata": {},
   "outputs": [],
   "source": [
    "#how to use exec() function?\n",
    "help(exec)"
   ]
  },
  {
   "cell_type": "code",
   "execution_count": null,
   "metadata": {},
   "outputs": [],
   "source": [
    "#how to use open() function?\n",
    "help(open)"
   ]
  },
  {
   "cell_type": "markdown",
   "metadata": {
    "id": "pCUG0ZFvNciT"
   },
   "source": [
    "### Solution\n",
    " The `abs()` function has a single argument and a single return value. It is *implied* that the argument should be a number. \n",
    "\n",
    "The `exec()` function has three \"regular\" arguments and *no* specified return value. There are restrictions on what types the arguments may be. \n",
    "\n",
    "The `open()` function has one regular argument which is a *string*, one return value which is a *stream object*, and many many keyword arguments. You have to scroll down the help card to see their full descriptions."
   ]
  },
  {
   "cell_type": "markdown",
   "metadata": {
    "id": "XN0cj1IrNzWB"
   },
   "source": [
    "## Example. Using a new function\n",
    "\n",
    "The `ord()` function takes a single character as its single argument, and returns something else. *What does it do?* \n",
    "\n",
    "The `type()` and `print()` functions inspect variables, as we have seen before. \n",
    "\n",
    "Execute the cell below. "
   ]
  },
  {
   "cell_type": "code",
   "execution_count": null,
   "metadata": {
    "id": "Rf3zJPF6N5fz"
   },
   "outputs": [],
   "source": [
    "input='$'\n",
    "output=ord(input)\n",
    "print(type(input), input)\n",
    "print(type(output), output)"
   ]
  },
  {
   "cell_type": "markdown",
   "metadata": {},
   "source": [
    "Modify the cell below to read about the `ord()` function, etc."
   ]
  },
  {
   "cell_type": "code",
   "execution_count": null,
   "metadata": {},
   "outputs": [],
   "source": [
    "help()  #your value here"
   ]
  },
  {
   "cell_type": "markdown",
   "metadata": {
    "id": "bY2LOAH9OG2K"
   },
   "source": [
    "## Exercise. Binary conversion.\n",
    "\n",
    "Type the `int()` function into the cell below, and hover over to read about it. \n",
    "\n",
    "It has a hidden power! It can interpret strings that contain numbers in the *binary representation*. \n",
    "* E.g. `'110'` is the binary reprentation of the number 6. \n",
    "\n",
    "Figure out how to use this feature, and test it out. \n",
    "\n",
    "*  Hint: you must use a *keyword argument*.\n",
    "\n",
    "Convert a string (a number in binary) into a regular integer. "
   ]
  },
  {
   "cell_type": "code",
   "execution_count": null,
   "metadata": {
    "id": "5sxGfPu_OUP4"
   },
   "outputs": [],
   "source": [
    "#your code here"
   ]
  },
  {
   "cell_type": "markdown",
   "metadata": {
    "cellView": "form",
    "id": "ICo-TC9HOUUC"
   },
   "source": [
    "<details><summary><p style=\"padding: 10px; border: 2px solid;\"><big>Click here to see solution</big></p></summary>\n",
    "<p>\n",
    "\n",
    "    \n",
    "```\n",
    "text='110'\n",
    "number=int(text, base=2)\n",
    "print(text, \"is\", number)\n",
    "```\n",
    "    \n",
    "</p>\n",
    "</details>"
   ]
  },
  {
   "cell_type": "markdown",
   "metadata": {
    "id": "krs6sLWrQ04T"
   },
   "source": [
    "# Flow Control\n",
    "A program is not very useful if it can only do the same thing every time. Why not mix it up?\n",
    "\n",
    "*Flow* is the order in which statements are executed. \n",
    "\n",
    "*Flow control* is how you determine where Flow goes next. \n",
    "\n",
    "a *Control Statement* is a python command that does Flow Control. "
   ]
  },
  {
   "cell_type": "markdown",
   "metadata": {},
   "source": [
    "## Example control structure\n",
    "\n",
    "We have already seen the for statement. This is an example of a control structure. \n",
    "\n",
    "```\n",
    "for x in range():\n",
    "\tprint()\n",
    "```\n",
    "\n",
    "Observations\n",
    "* The `for` control statement ends with a colon “`:`”\n",
    "* The next line is indented (some amount of space on the left)"
   ]
  },
  {
   "cell_type": "markdown",
   "metadata": {
    "id": "bxsjlUv9Qrf3"
   },
   "source": [
    "## Whitespace\n",
    "\n",
    "The amount of whitespace at the beginning a line is called the indentation. \n",
    "\n",
    " > *whitespace*       `statement`\n",
    "\n",
    "Common indentation levels: 4 spaces, 8 spaces, etc\n",
    "\n",
    "* Warning: your IDE prefers multiples of 4 spaces. If you use other numbers, your syntax colors may be wrong. \n",
    "\n",
    "* Warning: Spaces and tabs are both whitespace, but tabs don’t look the same in every text editor so it can be a \"gotcha\". "
   ]
  },
  {
   "cell_type": "markdown",
   "metadata": {},
   "source": [
    "## Blocks \n",
    "\n",
    "In Python, programs are structured into blocks. A block is a group of statements that are executed together. \n",
    "Statements in a block have the same indentation. \n",
    "```\n",
    "block 1 \n",
    "block 1\n",
    "    block 2\n",
    "    block 2\n",
    "```\n"
   ]
  },
  {
   "cell_type": "markdown",
   "metadata": {
    "id": "mBCyg_6eQwzh"
   },
   "source": [
    "## Conditionals\n",
    "\n",
    "The simplest control statement to demonstrate Flow Control is the `if` statement. \n",
    "*  `if` checks an  expression to see if the expression evaluates to `True` or `False`. \n",
    "*  When `if` has a `True` condition, it executes its block once, and then passes. \n",
    "*  When `if` has a `False` condition, it skips its block. \n",
    "\n",
    "> ```\n",
    "if <expression>:\n",
    ">     block\n",
    ">```\n",
    "\n",
    "Notice the colon `:` . All control statements have one. "
   ]
  },
  {
   "cell_type": "markdown",
   "metadata": {
    "id": "lIbZBKFESCps"
   },
   "source": [
    "## Example. Equality conditional\n",
    "Fill in the missing elements and execute the cell. Try multiple variations. Try different data types. "
   ]
  },
  {
   "cell_type": "code",
   "execution_count": null,
   "metadata": {
    "id": "GAanXMxBSH0A"
   },
   "outputs": [],
   "source": [
    "var1=\n",
    "var2=\n",
    "if var1 == var2:\n",
    "    print(\"a match\")\n",
    "print(\"the end\")"
   ]
  },
  {
   "cell_type": "markdown",
   "metadata": {
    "id": "gvRM_RHsSLhP"
   },
   "source": [
    "## Example. Trivial conditionals\n",
    "Of course, you can turn blocks on and off just by putting `True` and `False` directly in the `if` statement. \n"
   ]
  },
  {
   "cell_type": "code",
   "execution_count": null,
   "metadata": {
    "id": "EfqYmc3WSNv3"
   },
   "outputs": [],
   "source": [
    "if True:\n",
    "    print(\"this block always executes\")\n",
    "if False:\n",
    "    print(\"this block never executes\")"
   ]
  },
  {
   "cell_type": "markdown",
   "metadata": {
    "id": "n7vZM233SfRS"
   },
   "source": [
    "## Exercise. Inequality conditionals\n",
    "Write a program that compares two numbers. Print out a message that says which one was bigger. "
   ]
  },
  {
   "cell_type": "code",
   "execution_count": null,
   "metadata": {
    "id": "zx3lT5lqS06F"
   },
   "outputs": [],
   "source": [
    "# your code here"
   ]
  },
  {
   "cell_type": "markdown",
   "metadata": {
    "cellView": "form",
    "id": "IlAtJrQzS2xw"
   },
   "source": [
    "<details><summary><p style=\"padding: 10px; border: 2px solid;\"><big>Click here to see solution</big></p></summary>\n",
    "<p>\n",
    "\n",
    "    \n",
    "```\n",
    "a = 1 \n",
    "b = 2 \n",
    "\n",
    "if a>b:\n",
    "    print(a, \">\", b)\n",
    "if a<b:\n",
    "    print(b, \">\", a)\n",
    "if a==b:\n",
    "    print(a, \"and\", b, \"are equal\")\n",
    "```\n",
    "    \n",
    "</p>\n",
    "</details>"
   ]
  },
  {
   "cell_type": "markdown",
   "metadata": {
    "id": "2TsZeYbXUGRc"
   },
   "source": [
    "## Exercise. Bugs\n",
    "Something is wrong with the code below! Can you fix it?"
   ]
  },
  {
   "cell_type": "code",
   "execution_count": null,
   "metadata": {
    "id": "WdtXMcegUJv8"
   },
   "outputs": [],
   "source": [
    "var=1\n",
    "if var<99:\n",
    "print(\"var < 99\")"
   ]
  },
  {
   "cell_type": "markdown",
   "metadata": {
    "id": "ewZ7NJeAUMcU"
   },
   "source": [
    "## Exercise. Bugs\n",
    "Something is wrong with the code below! Can you fix it?"
   ]
  },
  {
   "cell_type": "code",
   "execution_count": null,
   "metadata": {
    "id": "swQzOgQJUMlj"
   },
   "outputs": [],
   "source": [
    "what=\"a thing\"\n",
    "if what == \"not a thing\"\n",
    "    if what == \"a thing\"\n",
    "        print(\"this code makes no sense, honestly.\")"
   ]
  },
  {
   "cell_type": "markdown",
   "metadata": {
    "id": "PpDpyZAdUZsy"
   },
   "source": [
    "## Example. Implicit boolean conversion\n",
    "The `if` statement implicitly converts anything to a boolean, if it can. This is conceptually a \"test for *existance*\". \n",
    "\n",
    "Conversion to boolean (as we saw before) treats most values as `True`.\n",
    "\n",
    "A few exceptions:\n",
    "\n",
    "*   the number `0` is treated as `False`\n",
    "*   the string `''` is treated as `False`\n",
    "*   the object `None` is treated as `False`\n",
    "\n",
    "This is especially useful when combined with the `not` logic operator.\n",
    "\n",
    "Remove a `#` and execute the cell below. Try different values. "
   ]
  },
  {
   "cell_type": "code",
   "execution_count": null,
   "metadata": {
    "id": "RJvwl209UqOn"
   },
   "outputs": [],
   "source": [
    "#a=0\n",
    "#a=-99\n",
    "#a=''\n",
    "#a='words'\n",
    "#a=None\n",
    "#a=print \n",
    "\n",
    "if a:\n",
    "    print(a, 'exists')\n",
    "if not a:\n",
    "    print(a, 'does not exist')"
   ]
  },
  {
   "cell_type": "markdown",
   "metadata": {
    "id": "Wx11FbONUuNq"
   },
   "source": [
    "> wow, even built-in functions like `print()` count as objects?\n",
    ">\n",
    "> -- some kid probably"
   ]
  },
  {
   "cell_type": "markdown",
   "metadata": {
    "id": "4fkugKUpTd_C"
   },
   "source": [
    "## Conditional statements, extended\n",
    "\n",
    "The `else` control statement is linked to a previous `if` statement. The `else` statement executes its block when the `if` doesn't, and vice versa. \n",
    "\n",
    ">```\n",
    ">if <expression>:\n",
    ">    block\n",
    ">else:\n",
    ">    block\n",
    ">```\n",
    "\n",
    "The `elif` statement is a combination of `else` and `if`. It executes its block when the previous control statement doesn't, *and* its own expression evaluates to `True`. You may chain them together. \n",
    "\n",
    ">```\n",
    ">if <expression>:\n",
    ">    block\n",
    ">elif <expression>:\n",
    ">    block\n",
    ">elif <expression>:\n",
    ">    block\n",
    ">... \n",
    ">else:\n",
    ">    block\n",
    ">```"
   ]
  },
  {
   "cell_type": "markdown",
   "metadata": {
    "id": "iatiSM3cT4yN"
   },
   "source": [
    "## Example. Multiple conditions\n",
    "Fill in the missing value. Execute the code below. Try different values.  "
   ]
  },
  {
   "cell_type": "code",
   "execution_count": null,
   "metadata": {
    "id": "Tx2qK5A2T1AE"
   },
   "outputs": [],
   "source": [
    "# do you like soup?\n",
    "var= #your value here\n",
    "if var==\"Yes\":\n",
    "    print(\"good soup\")\n",
    "elif var==\"No\":\n",
    "    print(\"too bad\")\n",
    "else:\n",
    "    print(\"I only understand Yes or No\")"
   ]
  },
  {
   "cell_type": "markdown",
   "metadata": {
    "id": "_7ov8FNBW_1V"
   },
   "source": [
    "## Exercise. Multiple conditions\n",
    "\n",
    "Revisit the Leap Year concept from the Logic exercise. \n",
    "\n",
    "* Hint: ctrl-f Logic\n",
    "\n",
    "This time, implement the logic as multiple conditionals. Print out a different statement for each case. \n",
    "\n",
    "Hint: you can either \n",
    "* *nest* conditionals (one inside the other)\n",
    "* *chain* conditionals (one after the other)\n",
    "\n",
    "\n"
   ]
  },
  {
   "cell_type": "code",
   "execution_count": null,
   "metadata": {
    "id": "ocmZIlczX0Vo"
   },
   "outputs": [],
   "source": [
    "year=int(input(\"enter a year (and then <enter>):\"))\n",
    "#your code here"
   ]
  },
  {
   "cell_type": "markdown",
   "metadata": {
    "cellView": "form",
    "id": "CFS8WTlPX9jO"
   },
   "source": [
    "<details><summary><p style=\"padding: 10px; border: 2px solid;\"><big>Click here to see solution</big></p></summary>\n",
    "<p>\n",
    "\n",
    "    \n",
    "```\n",
    "year=int(input(\"enter a year (and then <enter>):\"))\n",
    "if year % 100 == 0:\n",
    "    print(\"A multiple of 100; not a leap year.\")\n",
    "elif year % 4 != 0:\n",
    "    print(\"Not a multiple of four; not a leap year.\")\n",
    "else:\n",
    "    print(\"A leap year!\")\n",
    "```\n",
    "    \n",
    "</p>\n",
    "</details>\n"
   ]
  },
  {
   "cell_type": "markdown",
   "metadata": {
    "id": "2uJfPUyaZwRh"
   },
   "source": [
    "# Lists\n",
    "\n",
    "Lists are the first kind of variable that can refer to multiple objects. The objects can be of any type. They can even be lists. Each object is called an **element**.\n",
    "\n",
    "Create a list with `[]`. Separate elements with comma `,` .\n",
    "\n",
    "The function `len()` will count how many elements are in a list. "
   ]
  },
  {
   "cell_type": "markdown",
   "metadata": {
    "id": "fujZTlJzaB1U"
   },
   "source": [
    "## Example. List\n",
    "\n",
    "\n",
    "This list has three elements. They are strings. "
   ]
  },
  {
   "cell_type": "code",
   "execution_count": null,
   "metadata": {
    "id": "TCC3kp3TaNCI"
   },
   "outputs": [],
   "source": [
    "example_list = [ 'apple', 'banana', 'orange']\n",
    "print(\"example_list\",      example_list )\n",
    "print(        \"type\", type(example_list))\n",
    "print(      \"length\",  len(example_list))"
   ]
  },
  {
   "cell_type": "markdown",
   "metadata": {
    "id": "0jHHzsTTaX5r"
   },
   "source": [
    "There are many things you can do with lists, but not today. "
   ]
  },
  {
   "cell_type": "markdown",
   "metadata": {
    "id": "Be7Rvnb9ahIR"
   },
   "source": [
    "## Exercise. List\n",
    "Create a list with at least three elements. Try different data types. \n",
    "\n",
    "Print the list and the length of the list. "
   ]
  },
  {
   "cell_type": "code",
   "execution_count": null,
   "metadata": {
    "id": "EfITI1pJatTE"
   },
   "outputs": [],
   "source": [
    "#your code here"
   ]
  },
  {
   "cell_type": "markdown",
   "metadata": {
    "id": "9yqM-j8NZaFI"
   },
   "source": [
    "# List Loops\n",
    "\n",
    "We have previously seen the `for` loop iterate over a fixed range. \n",
    "\n",
    ">Reminder:\n",
    ">```\n",
    ">for x in range(10):\n",
    ">    print(x)\n",
    ">```\n",
    "\n",
    "But the `for` loop is powerful! It can also iterate over **lists**. \n",
    "\n",
    ">Compare:\n",
    ">```\n",
    ">for x in <list>:\n",
    ">    print(x)\n",
    ">```\n",
    "\n"
   ]
  },
  {
   "cell_type": "markdown",
   "metadata": {
    "id": "vsIkk7jxav9u"
   },
   "source": [
    "## Example. List loop\n",
    "\n",
    "Combine our previous examples of iteration and list. \n",
    "\n",
    "Execute the cell to see what happens. "
   ]
  },
  {
   "cell_type": "code",
   "execution_count": null,
   "metadata": {
    "id": "nUxYhluha7R4"
   },
   "outputs": [],
   "source": [
    "example_list = [ 'apple', 'banana', 'orange']\n",
    "for x in example_list:\n",
    "    print(x)"
   ]
  },
  {
   "cell_type": "markdown",
   "metadata": {
    "id": "49x8pXKpbCKM"
   },
   "source": [
    "## Exercise. Sequence Summation. \n",
    "\n",
    "Create a list that contains only numbers (at least 5 elements). \n",
    "\n",
    "Copy the code you used for the triangular numbers exercise (Iterating Variables). \n",
    "\n",
    "* Hint: ctrl-f triangular\n",
    "\n",
    "...except this time, replace the `range()` with your list. "
   ]
  },
  {
   "cell_type": "code",
   "execution_count": null,
   "metadata": {
    "id": "zubEy7lKbb76"
   },
   "outputs": [],
   "source": [
    "#your code here. "
   ]
  },
  {
   "cell_type": "markdown",
   "metadata": {
    "cellView": "form",
    "id": "BEHG_Eyvbdyw"
   },
   "source": [
    "<details><summary><p style=\"padding: 10px; border: 2px solid;\"><big>Click here to see solution</big></p></summary>\n",
    "<p>\n",
    "\n",
    "    \n",
    "```\n",
    "print(\"the summation of some prime numbers\")\n",
    "sum=0\n",
    "for x in [2,3,5,7,11,13,17,19,23,29]:\n",
    "    sum=sum+x\n",
    "    print(sum)\n",
    "```\n",
    "    \n",
    "</p>\n",
    "</details>"
   ]
  },
  {
   "cell_type": "markdown",
   "metadata": {},
   "source": [
    "## Exercise. Bugs\n",
    "\n",
    "Something is wrong with the code below! Can you fix it?"
   ]
  },
  {
   "cell_type": "code",
   "execution_count": null,
   "metadata": {},
   "outputs": [],
   "source": [
    "for plant in \"flower\" \"grass\" \"tree\":\n",
    "    print(plant)"
   ]
  }
 ],
 "metadata": {
  "colab": {
   "collapsed_sections": [],
   "name": "Intro Python fall21.ipynb",
   "provenance": [],
   "toc_visible": true
  },
  "kernelspec": {
   "display_name": "Python 3",
   "language": "python",
   "name": "python3"
  },
  "language_info": {
   "codemirror_mode": {
    "name": "ipython",
    "version": 3
   },
   "file_extension": ".py",
   "mimetype": "text/x-python",
   "name": "python",
   "nbconvert_exporter": "python",
   "pygments_lexer": "ipython3",
   "version": "3.8.6"
  }
 },
 "nbformat": 4,
 "nbformat_minor": 1
}
